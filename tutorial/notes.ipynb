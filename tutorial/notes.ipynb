{
 "cells": [
  {
   "cell_type": "markdown",
   "metadata": {
    "toc-hr-collapsed": false
   },
   "source": [
    "# Notes on learning DESI tutorials\n",
    "- https://github.com/desihub/tutorials"
   ]
  },
  {
   "cell_type": "markdown",
   "metadata": {},
   "source": [
    "#### Check DESI kernel"
   ]
  },
  {
   "cell_type": "code",
   "execution_count": 2,
   "metadata": {},
   "outputs": [
    {
     "name": "stdout",
     "output_type": "stream",
     "text": [
      "Populating the interactive namespace from numpy and matplotlib\n",
      "desimodel  0.9.10\n",
      "desispec   0.28.0\n",
      "desitarget 0.28.0\n"
     ]
    },
    {
     "data": {
      "text/plain": [
       "[<matplotlib.lines.Line2D at 0x2aaae52586d8>]"
      ]
     },
     "execution_count": 2,
     "metadata": {},
     "output_type": "execute_result"
    },
    {
     "data": {
      "image/png": "[encoded data removed]",
      "text/plain": [
       "<matplotlib.figure.Figure at 0x2aaade7404a8>"
      ]
     },
     "metadata": {},
     "output_type": "display_data"
    }
   ],
   "source": [
    "%pylab inline\n",
    "import desispec\n",
    "import desitarget\n",
    "import desimodel.io\n",
    "print('desimodel ', desimodel.__version__)\n",
    "print('desispec  ', desispec.__version__)\n",
    "print('desitarget', desitarget.__version__)\n",
    "\n",
    "fiberpos = desimodel.io.load_fiberpos()\n",
    "figure(figsize=(8,8))\n",
    "plot(fiberpos['X'], fiberpos['Y'], 'k.', alpha=0.5, markeredgecolor='none')"
   ]
  },
  {
   "cell_type": "markdown",
   "metadata": {},
   "source": [
    "#### Import required modules"
   ]
  },
  {
   "cell_type": "code",
   "execution_count": 1,
   "metadata": {},
   "outputs": [
    {
     "name": "stdout",
     "output_type": "stream",
     "text": [
      "Populating the interactive namespace from numpy and matplotlib\n"
     ]
    }
   ],
   "source": [
    "import os\n",
    "import numpy as np\n",
    "import healpy as hp\n",
    "from glob import glob\n",
    "import fitsio\n",
    "from collections import defaultdict\n",
    "import matplotlib.pyplot as plt\n",
    "%pylab inline\n",
    "\n",
    "# DESI modules\n",
    "from desitarget.targetmask import desi_mask\n",
    "import desispec.io"
   ]
  },
  {
   "cell_type": "code",
   "execution_count": 4,
   "metadata": {},
   "outputs": [
    {
     "name": "stdout",
     "output_type": "stream",
     "text": [
      "healpy:  1.11.0\n",
      "numpy:  1.13.3\n",
      "fitsio:  0.9.11\n"
     ]
    }
   ],
   "source": [
    "# version of the modules\n",
    "print('healpy: ', hp.__version__)\n",
    "print('numpy: ', np.__version__)\n",
    "print('fitsio: ', fitsio.__version__)"
   ]
  },
  {
   "cell_type": "markdown",
   "metadata": {},
   "source": [
    "---"
   ]
  },
  {
   "cell_type": "markdown",
   "metadata": {},
   "source": [
    "#### Environment variables and data"
   ]
  },
  {
   "cell_type": "markdown",
   "metadata": {},
   "source": [
    "- Data are under `$DESI_SPECTRO_REDUX/$SPECPROD`.\n",
    "  - Spectro production runs are grouped under `$DESI_SPECTRO_REDUX`.\n",
    "  - `$SPECPROD` indicates which run to use."
   ]
  },
  {
   "cell_type": "code",
   "execution_count": 5,
   "metadata": {},
   "outputs": [
    {
     "name": "stdout",
     "output_type": "stream",
     "text": [
      "env: DESI_SPECTRO_REDUX=/project/projectdirs/desi/datachallenge/reference_runs/19.2/spectro/redux/\n",
      "env: SPECPROD=mini\n"
     ]
    }
   ],
   "source": [
    "%set_env DESI_SPECTRO_REDUX=/project/projectdirs/desi/datachallenge/reference_runs/19.2/spectro/redux/\n",
    "%set_env SPECPROD=mini"
   ]
  },
  {
   "cell_type": "code",
   "execution_count": 6,
   "metadata": {},
   "outputs": [
    {
     "name": "stdout",
     "output_type": "stream",
     "text": [
      "/project/projectdirs/desi/datachallenge/reference_runs/19.2/spectro/redux/mini\n"
     ]
    }
   ],
   "source": [
    "reduxdir = desispec.io.specprod_root()\n",
    "print(reduxdir)"
   ]
  },
  {
   "cell_type": "code",
   "execution_count": 7,
   "metadata": {},
   "outputs": [
    {
     "name": "stdout",
     "output_type": "stream",
     "text": [
      "$DESI_SPECTRO_REDUX=/project/projectdirs/desi/datachallenge/reference_runs/19.2/spectro/redux/\n",
      "$SPECPROD=mini\n",
      "OK: /project/projectdirs/desi/datachallenge/reference_runs/19.2/spectro/redux/mini exists\n"
     ]
    }
   ],
   "source": [
    "#- Do check that these are set correctly before proceeding\n",
    "def check_env():\n",
    "    for env in ('DESI_SPECTRO_REDUX', 'SPECPROD'):\n",
    "        if env in os.environ:\n",
    "            print('${}={}'.format(env, os.getenv(env)))\n",
    "        else:\n",
    "            print('Required environment variable {} not set!'.format(env))\n",
    "\n",
    "    reduxdir = desispec.io.specprod_root()\n",
    "    if not os.path.exists(reduxdir):\n",
    "        print(\"ERROR: {} doesn't exist; check $DESI_SPECTRO_REDUX/$SPECPROD\".format(reduxdir))\n",
    "    else:\n",
    "        print('OK: {} exists'.format(reduxdir))\n",
    "\n",
    "check_env()"
   ]
  },
  {
   "cell_type": "markdown",
   "metadata": {},
   "source": [
    "---"
   ]
  },
  {
   "cell_type": "markdown",
   "metadata": {
    "toc-hr-collapsed": false
   },
   "source": [
    "### Data model for the spectra"
   ]
  },
  {
   "cell_type": "markdown",
   "metadata": {},
   "source": [
    "- All the calibrated spectra are grouped with Healpix.\n",
    "- The directory structure is `$DESI_SPECTRO_REDUX/$SPECPROD/spectra-{nside}/{group}/{pix}/*-{nside}-{pix}.fits`.\n",
    "  - `group = pix // 100`\n",
    "  - `*` can be `spectra` or `zbest` with best-fit redshifts from redrock."
   ]
  },
  {
   "cell_type": "code",
   "execution_count": 18,
   "metadata": {},
   "outputs": [
    {
     "name": "stdout",
     "output_type": "stream",
     "text": [
      "/project/projectdirs/desi/datachallenge/reference_runs/19.2/spectro/redux/mini/spectra-64\n",
      "['53', '56', '52']\n",
      "/project/projectdirs/desi/datachallenge/reference_runs/19.2/spectro/redux/mini/spectra-64/53\n",
      "['5302', '5310', '5311', '5346', '5307', '5308', '5309', '5303', '5304', '5305', '5352', '5306', '5354', '5300', '5301']\n",
      "/project/projectdirs/desi/datachallenge/reference_runs/19.2/spectro/redux/mini/spectra-64/53/5302\n",
      "['spectra-64-5302.fits', 'redrock-64-5302.h5', 'zbest-64-5302.fits']\n"
     ]
    }
   ],
   "source": [
    "basedir = os.path.join(os.getenv('DESI_SPECTRO_REDUX'), os.getenv('SPECPROD'), 'spectra-64')\n",
    "subdir = os.listdir(basedir)\n",
    "print(basedir)\n",
    "print(subdir)\n",
    "\n",
    "basedir = os.path.join(basedir, subdir[0])\n",
    "subdir = os.listdir(basedir)\n",
    "print(basedir)\n",
    "print(subdir)\n",
    "\n",
    "basedir = os.path.join(basedir, subdir[0])\n",
    "subdir = os.listdir(basedir)\n",
    "print(basedir)\n",
    "print(subdir)"
   ]
  },
  {
   "cell_type": "code",
   "execution_count": 19,
   "metadata": {},
   "outputs": [
    {
     "data": {
      "text/plain": [
       "'/project/projectdirs/desi/datachallenge/reference_runs/19.2/spectro/redux/mini/spectra-64/53/5302/spectra-64-5302.fits'"
      ]
     },
     "execution_count": 19,
     "metadata": {},
     "output_type": "execute_result"
    }
   ],
   "source": [
    "# desispec.io\n",
    "desispec.io.findfile('spectra', groupname=5302)"
   ]
  },
  {
   "cell_type": "markdown",
   "metadata": {
    "toc-hr-collapsed": false
   },
   "source": [
    "#### Spectra file format"
   ]
  },
  {
   "cell_type": "code",
   "execution_count": 62,
   "metadata": {},
   "outputs": [
    {
     "data": {
      "text/plain": [
       "\n",
       "  file: /project/projectdirs/desi/datachallenge/reference_runs/19.2/spectro/redux/mini/spectra-64/52/5263/spectra-64-5263.fits\n",
       "  mode: READONLY\n",
       "  extnum hdutype         hduname[v]\n",
       "  0      IMAGE_HDU       \n",
       "  1      BINARY_TBL      FIBERMAP\n",
       "  2      BINARY_TBL      SCORES\n",
       "  3      IMAGE_HDU       B_WAVELENGTH\n",
       "  4      IMAGE_HDU       B_FLUX\n",
       "  5      IMAGE_HDU       B_IVAR\n",
       "  6      IMAGE_HDU       B_MASK\n",
       "  7      IMAGE_HDU       B_RESOLUTION\n",
       "  8      IMAGE_HDU       R_WAVELENGTH\n",
       "  9      IMAGE_HDU       R_FLUX\n",
       "  10     IMAGE_HDU       R_IVAR\n",
       "  11     IMAGE_HDU       R_MASK\n",
       "  12     IMAGE_HDU       R_RESOLUTION\n",
       "  13     IMAGE_HDU       Z_WAVELENGTH\n",
       "  14     IMAGE_HDU       Z_FLUX\n",
       "  15     IMAGE_HDU       Z_IVAR\n",
       "  16     IMAGE_HDU       Z_MASK\n",
       "  17     IMAGE_HDU       Z_RESOLUTION"
      ]
     },
     "execution_count": 62,
     "metadata": {},
     "output_type": "execute_result"
    }
   ],
   "source": [
    "specfiles = sorted(glob(reduxdir + '/spectra-64/*/*/spectra*.fits'))\n",
    "specfilename = specfiles[2]\n",
    "DM = fitsio.FITS(specfilename)\n",
    "DM"
   ]
  },
  {
   "cell_type": "markdown",
   "metadata": {},
   "source": [
    "##### FIBERMAP"
   ]
  },
  {
   "cell_type": "markdown",
   "metadata": {},
   "source": [
    "- `FIBERMAP` stores the mapping of the imaging information used to target and place a fiber on the source."
   ]
  },
  {
   "cell_type": "code",
   "execution_count": 63,
   "metadata": {},
   "outputs": [
    {
     "data": {
      "text/plain": [
       "[('TARGETID', '>i8'),\n",
       " ('DESI_TARGET', '>i8'),\n",
       " ('BGS_TARGET', '>i8'),\n",
       " ('MWS_TARGET', '>i8'),\n",
       " ('SECONDARY_TARGET', '>i8'),\n",
       " ('TARGET_RA', '>f8'),\n",
       " ('TARGET_DEC', '>f8'),\n",
       " ('TARGET_RA_IVAR', '>f8'),\n",
       " ('TARGET_DEC_IVAR', '>f8'),\n",
       " ('BRICKID', '>i8'),\n",
       " ('BRICK_OBJID', '>i8'),\n",
       " ('MORPHTYPE', '|S4'),\n",
       " ('PRIORITY', '>i4'),\n",
       " ('SUBPRIORITY', '>f8'),\n",
       " ('REF_ID', '>i8'),\n",
       " ('PMRA', '>f4'),\n",
       " ('PMDEC', '>f4'),\n",
       " ('PMRA_IVAR', '>f4'),\n",
       " ('PMDEC_IVAR', '>f4'),\n",
       " ('FLUX_G', '>f4'),\n",
       " ('FLUX_R', '>f4'),\n",
       " ('FLUX_Z', '>f4'),\n",
       " ('FLUX_W1', '>f4'),\n",
       " ('FLUX_W2', '>f4'),\n",
       " ('FLUX_IVAR_G', '>f4'),\n",
       " ('FLUX_IVAR_R', '>f4'),\n",
       " ('FLUX_IVAR_Z', '>f4'),\n",
       " ('FLUX_IVAR_W1', '>f4'),\n",
       " ('FLUX_IVAR_W2', '>f4'),\n",
       " ('FIBERFLUX_G', '>f4'),\n",
       " ('FIBERFLUX_R', '>f4'),\n",
       " ('FIBERFLUX_Z', '>f4'),\n",
       " ('FIBERFLUX_W1', '>f4'),\n",
       " ('FIBERFLUX_W2', '>f4'),\n",
       " ('FIBERTOTFLUX_G', '>f4'),\n",
       " ('FIBERTOTFLUX_R', '>f4'),\n",
       " ('FIBERTOTFLUX_Z', '>f4'),\n",
       " ('FIBERTOTFLUX_W1', '>f4'),\n",
       " ('FIBERTOTFLUX_W2', '>f4'),\n",
       " ('MW_TRANSMISSION_G', '>f4'),\n",
       " ('MW_TRANSMISSION_R', '>f4'),\n",
       " ('MW_TRANSMISSION_Z', '>f4'),\n",
       " ('EBV', '>f4'),\n",
       " ('PHOTSYS', '|S1'),\n",
       " ('FIBER', '>i4'),\n",
       " ('PETAL_LOC', '>i4'),\n",
       " ('DEVICE_LOC', '>i4'),\n",
       " ('LOCATION', '>i4'),\n",
       " ('FIBERSTATUS', '>i4'),\n",
       " ('OBJTYPE', '|S3'),\n",
       " ('LAMBDA_REF', '>f4'),\n",
       " ('DESIGN_X', '>f4'),\n",
       " ('DESIGN_Y', '>f4'),\n",
       " ('DESIGN_Q', '>f4'),\n",
       " ('DESIGN_S', '>f4'),\n",
       " ('NUMTARGET', '>i2'),\n",
       " ('FIBER_RA', '>f8'),\n",
       " ('FIBER_DEC', '>f8'),\n",
       " ('FIBER_RA_IVAR', '>f4'),\n",
       " ('FIBER_DEC_IVAR', '>f4'),\n",
       " ('DELTA_X', '>f4'),\n",
       " ('DELTA_Y', '>f4'),\n",
       " ('DELTA_X_IVAR', '>f4'),\n",
       " ('DELTA_Y_IVAR', '>f4'),\n",
       " ('NUM_ITER', '>i4'),\n",
       " ('SPECTROID', '>i4'),\n",
       " ('BRICKNAME', '|S8'),\n",
       " ('LAMBDAREF', '>f8'),\n",
       " ('NIGHT', '>i4'),\n",
       " ('EXPID', '>i4'),\n",
       " ('TILEID', '>i4')]"
      ]
     },
     "execution_count": 63,
     "metadata": {},
     "output_type": "execute_result"
    }
   ],
   "source": [
    "fm = fitsio.read(specfilename, 'FIBERMAP')\n",
    "fm.dtype.descr"
   ]
  },
  {
   "cell_type": "markdown",
   "metadata": {},
   "source": [
    "##### WAVELENGTH"
   ]
  },
  {
   "cell_type": "markdown",
   "metadata": {},
   "source": [
    "- Note that the wavelength arrays are 1-D (every spectrum in the spectral file is mapped to the same binning in wavelength)."
   ]
  },
  {
   "cell_type": "code",
   "execution_count": 78,
   "metadata": {},
   "outputs": [
    {
     "name": "stdout",
     "output_type": "stream",
     "text": [
      "B coverage: 3569.3 to 5948.5 Angstroms\n",
      "R coverage: 5625.3 to 7740.5 Angstroms\n",
      "Z coverage: 7435.3 to 9833.7 Angstroms\n"
     ]
    }
   ],
   "source": [
    "bwave = fitsio.read(specfilename, 'B_WAVELENGTH')\n",
    "rwave = fitsio.read(specfilename, 'R_WAVELENGTH')\n",
    "zwave = fitsio.read(specfilename, 'Z_WAVELENGTH')\n",
    "print(\"B coverage: {:.1f} to {:.1f} Angstroms\".format(np.min(bwave),np.max(bwave)))\n",
    "print(\"R coverage: {:.1f} to {:.1f} Angstroms\".format(np.min(rwave),np.max(rwave)))\n",
    "print(\"Z coverage: {:.1f} to {:.1f} Angstroms\".format(np.min(zwave),np.max(zwave)))"
   ]
  },
  {
   "cell_type": "code",
   "execution_count": 80,
   "metadata": {},
   "outputs": [
    {
     "name": "stdout",
     "output_type": "stream",
     "text": [
      "(2975,)\n"
     ]
    }
   ],
   "source": [
    "print(bwave.shape)"
   ]
  },
  {
   "cell_type": "markdown",
   "metadata": {},
   "source": [
    "##### FLUX"
   ]
  },
  {
   "cell_type": "markdown",
   "metadata": {},
   "source": [
    "- The flux array (and flux_ivar, mask etc. arrays) are 2-D, because they contain multiple spectra."
   ]
  },
  {
   "cell_type": "code",
   "execution_count": 79,
   "metadata": {},
   "outputs": [],
   "source": [
    "bflux = fitsio.read(specfilename,'B_FLUX')\n",
    "rflux = fitsio.read(specfilename,'R_FLUX')\n",
    "zflux = fitsio.read(specfilename,'Z_FLUX')"
   ]
  },
  {
   "cell_type": "code",
   "execution_count": 88,
   "metadata": {},
   "outputs": [
    {
     "data": {
      "text/plain": [
       "[<matplotlib.lines.Line2D at 0x2aaaf95454e0>]"
      ]
     },
     "execution_count": 88,
     "metadata": {},
     "output_type": "execute_result"
    },
    {
     "data": {
      "image/png": "[encoded data removed]",
      "text/plain": [
       "<matplotlib.figure.Figure at 0x2aaaf94e4ef0>"
      ]
     },
     "metadata": {},
     "output_type": "display_data"
    }
   ],
   "source": [
    "spectrum = 0\n",
    "plt.plot(bwave,bflux[spectrum], 'b', alpha=0.5)\n",
    "plt.plot(rwave,rflux[spectrum], 'r', alpha=0.5)\n",
    "plt.plot(zwave,zflux[spectrum], 'k', alpha=0.5)"
   ]
  },
  {
   "cell_type": "markdown",
   "metadata": {},
   "source": [
    "### DESI-specific spectrum reader"
   ]
  },
  {
   "cell_type": "code",
   "execution_count": 89,
   "metadata": {},
   "outputs": [],
   "source": [
    "specobj = desispec.io.read_spectra(specfilename)"
   ]
  },
  {
   "cell_type": "code",
   "execution_count": 90,
   "metadata": {},
   "outputs": [
    {
     "data": {
      "text/plain": [
       "{'b': array([ 3569.3,  3570.1,  3570.9, ...,  5946.9,  5947.7,  5948.5]),\n",
       " 'r': array([ 5625.3,  5626.1,  5626.9, ...,  7738.9,  7739.7,  7740.5]),\n",
       " 'z': array([ 7435.3,  7436.1,  7436.9, ...,  9832.1,  9832.9,  9833.7])}"
      ]
     },
     "execution_count": 90,
     "metadata": {},
     "output_type": "execute_result"
    }
   ],
   "source": [
    "specobj.wave"
   ]
  },
  {
   "cell_type": "code",
   "execution_count": 95,
   "metadata": {},
   "outputs": [
    {
     "data": {
      "text/plain": [
       "{'b': array([[ -4.44917297,   5.91132069,   3.36374617, ...,  -5.43211126,\n",
       "           1.23149192,   0.5232538 ],\n",
       "        [  5.01340199,  -4.07736778,  -2.85891485, ...,   0.34274864,\n",
       "           2.24843884,   7.60697699],\n",
       "        [  1.05670679,  -2.97938633,   5.98110294, ...,  -1.55714762,\n",
       "          -1.35028291,   1.88797033],\n",
       "        ..., \n",
       "        [ -7.10617781,   1.75557959,   2.01467061, ..., -16.51118469,\n",
       "          -1.03650367,  -1.56022418],\n",
       "        [ -3.15484405,  -4.63223076,   5.63041687, ...,   0.40663308,\n",
       "         -11.52686977,   3.07458305],\n",
       "        [  3.69688749,  -6.44705868,  39.10839081, ...,  -6.44642401,\n",
       "          12.61435795,  15.90933514]]),\n",
       " 'r': array([[  6.25745821e+00,  -7.92421532e+00,   1.04103765e+01, ...,\n",
       "          -4.42914629e+00,   8.24960530e-01,   1.81631994e+00],\n",
       "        [  3.64575100e+00,   4.65795374e+00,  -6.48851633e+00, ...,\n",
       "           1.48326015e+00,  -1.36185169e+00,  -4.79864478e-01],\n",
       "        [ -5.19985676e-01,  -7.02103949e+00,   1.34250507e+01, ...,\n",
       "          -1.48588177e-02,   1.00426340e+00,  -9.79308248e-01],\n",
       "        ..., \n",
       "        [ -6.69630051e+00,  -2.42854939e+01,  -2.93692112e+00, ...,\n",
       "           2.67342997e+00,  -2.12692189e+00,   5.47766733e+00],\n",
       "        [  1.65522518e+01,  -1.51197362e+00,  -9.89717865e+00, ...,\n",
       "          -4.10851765e+00,   3.81243801e+00,  -8.38645935e+00],\n",
       "        [  6.12930584e+00,   3.29469728e+00,  -1.08091545e+01, ...,\n",
       "           7.91115582e-01,   2.16666079e+00,   6.95585907e-02]]),\n",
       " 'z': array([[  2.92644095,   0.81783527,   2.69162464, ...,   0.60173792,\n",
       "           0.63231629,  -0.17200623],\n",
       "        [ -0.09795918,   0.14267586,  -2.03770781, ...,  -0.32596147,\n",
       "           0.51457256,  -0.28445464],\n",
       "        [ -1.03349233,   3.5213182 ,   2.87196159, ...,   0.66944396,\n",
       "          -0.20853424,  -0.15158151],\n",
       "        ..., \n",
       "        [ -4.77640724,   0.47667748,   4.09841967, ...,  -0.28959051,\n",
       "          -0.89235777,   0.26198047],\n",
       "        [ -6.04045582,   1.55583251,  -4.04531574, ...,   0.87751907,\n",
       "           0.78887266,  -0.58238542],\n",
       "        [ -7.62530899,  -4.28178358, -13.85728168, ...,   0.52195913,\n",
       "           0.05562723,   0.35730338]])}"
      ]
     },
     "execution_count": 95,
     "metadata": {},
     "output_type": "execute_result"
    }
   ],
   "source": [
    "specobj.flux"
   ]
  },
  {
   "cell_type": "code",
   "execution_count": 96,
   "metadata": {},
   "outputs": [
    {
     "data": {
      "text/plain": [
       "[<matplotlib.lines.Line2D at 0x2aaaf95cdba8>]"
      ]
     },
     "execution_count": 96,
     "metadata": {},
     "output_type": "execute_result"
    },
    {
     "data": {
      "image/png": "[encoded data removed]",
      "text/plain": [
       "<matplotlib.figure.Figure at 0x2aaaf9517ba8>"
      ]
     },
     "metadata": {},
     "output_type": "display_data"
    }
   ],
   "source": [
    "spectrum = 0\n",
    "plt.plot(specobj.wave[\"b\"], specobj.flux[\"b\"][spectrum], color='b', alpha=0.5)\n",
    "plt.plot(specobj.wave[\"r\"], specobj.flux[\"r\"][spectrum], color='r', alpha=0.5)\n",
    "plt.plot(specobj.wave[\"z\"], specobj.flux[\"z\"][spectrum], color='k', alpha=0.5)"
   ]
  },
  {
   "cell_type": "code",
   "execution_count": 102,
   "metadata": {},
   "outputs": [
    {
     "data": {
      "text/html": [
       "&lt;Table length=1762&gt;\n",
       "<table id=\"table46914650610880\" class=\"table-striped table-bordered table-condensed\">\n",
       "<thead><tr><th>TARGETID</th><th>DESI_TARGET</th><th>BGS_TARGET</th><th>MWS_TARGET</th><th>SECONDARY_TARGET</th><th>TARGET_RA</th><th>TARGET_DEC</th><th>TARGET_RA_IVAR</th><th>TARGET_DEC_IVAR</th><th>BRICKID</th><th>BRICK_OBJID</th><th>MORPHTYPE</th><th>PRIORITY</th><th>SUBPRIORITY</th><th>REF_ID</th><th>PMRA</th><th>PMDEC</th><th>PMRA_IVAR</th><th>PMDEC_IVAR</th><th>FLUX_G</th><th>FLUX_R</th><th>FLUX_Z</th><th>FLUX_W1</th><th>FLUX_W2</th><th>FLUX_IVAR_G</th><th>FLUX_IVAR_R</th><th>FLUX_IVAR_Z</th><th>FLUX_IVAR_W1</th><th>FLUX_IVAR_W2</th><th>FIBERFLUX_G</th><th>FIBERFLUX_R</th><th>FIBERFLUX_Z</th><th>FIBERFLUX_W1</th><th>FIBERFLUX_W2</th><th>FIBERTOTFLUX_G</th><th>FIBERTOTFLUX_R</th><th>FIBERTOTFLUX_Z</th><th>FIBERTOTFLUX_W1</th><th>FIBERTOTFLUX_W2</th><th>MW_TRANSMISSION_G</th><th>MW_TRANSMISSION_R</th><th>MW_TRANSMISSION_Z</th><th>EBV</th><th>PHOTSYS</th><th>FIBER</th><th>PETAL_LOC</th><th>DEVICE_LOC</th><th>LOCATION</th><th>FIBERSTATUS</th><th>OBJTYPE</th><th>LAMBDA_REF</th><th>DESIGN_X</th><th>DESIGN_Y</th><th>DESIGN_Q</th><th>DESIGN_S</th><th>NUMTARGET</th><th>FIBER_RA</th><th>FIBER_DEC</th><th>FIBER_RA_IVAR</th><th>FIBER_DEC_IVAR</th><th>DELTA_X</th><th>DELTA_Y</th><th>DELTA_X_IVAR</th><th>DELTA_Y_IVAR</th><th>NUM_ITER</th><th>SPECTROID</th><th>BRICKNAME</th><th>LAMBDAREF</th><th>NIGHT</th><th>EXPID</th><th>TILEID</th></tr></thead>\n",
       "<thead><tr><th>int64</th><th>int64</th><th>int64</th><th>int64</th><th>int64</th><th>float64</th><th>float64</th><th>float64</th><th>float64</th><th>int64</th><th>int64</th><th>bytes4</th><th>int32</th><th>float64</th><th>int64</th><th>float32</th><th>float32</th><th>float32</th><th>float32</th><th>float32</th><th>float32</th><th>float32</th><th>float32</th><th>float32</th><th>float32</th><th>float32</th><th>float32</th><th>float32</th><th>float32</th><th>float32</th><th>float32</th><th>float32</th><th>float32</th><th>float32</th><th>float32</th><th>float32</th><th>float32</th><th>float32</th><th>float32</th><th>float32</th><th>float32</th><th>float32</th><th>float32</th><th>bytes1</th><th>int32</th><th>int32</th><th>int32</th><th>int32</th><th>int32</th><th>bytes3</th><th>float32</th><th>float32</th><th>float32</th><th>float32</th><th>float32</th><th>int16</th><th>float64</th><th>float64</th><th>float32</th><th>float32</th><th>float32</th><th>float32</th><th>float32</th><th>float32</th><th>int32</th><th>int32</th><th>bytes8</th><th>float64</th><th>int32</th><th>int32</th><th>int32</th></tr></thead>\n",
       "<tr><td>288230398226336483</td><td>2</td><td>0</td><td>0</td><td>0</td><td>151.926116943</td><td>29.8613204956</td><td>0.0</td><td>0.0</td><td>0</td><td>0</td><td></td><td>0</td><td>0.0</td><td>0</td><td>0.0</td><td>0.0</td><td>0.0</td><td>0.0</td><td>0.499628</td><td>0.59038</td><td>0.996447</td><td>1.22848</td><td>0.98329</td><td>0.0</td><td>0.0</td><td>0.0</td><td>0.0</td><td>0.0</td><td>0.0</td><td>0.0</td><td>0.0</td><td>0.0</td><td>0.0</td><td>0.0</td><td>0.0</td><td>0.0</td><td>0.0</td><td>0.0</td><td>0.999</td><td>0.999</td><td>0.999</td><td>0.001</td><td>S</td><td>4251</td><td>8</td><td>330</td><td>8330</td><td>0</td><td>TGT</td><td>5400.0</td><td>-258.576</td><td>-162.83</td><td>0.0</td><td>0.0</td><td>0</td><td>151.926116943</td><td>29.8613204956</td><td>0.0</td><td>0.0</td><td>0.0</td><td>0.0</td><td>0.0</td><td>0.0</td><td>2</td><td>8</td><td>1519p297</td><td>5400.0</td><td>20200315</td><td>10</td><td>28408</td></tr>\n",
       "<tr><td>288230398226336494</td><td>2</td><td>0</td><td>0</td><td>0</td><td>151.987716675</td><td>29.8390388489</td><td>0.0</td><td>0.0</td><td>0</td><td>0</td><td></td><td>0</td><td>0.0</td><td>0</td><td>0.0</td><td>0.0</td><td>0.0</td><td>0.0</td><td>0.419791</td><td>0.539089</td><td>1.00151</td><td>2.26773</td><td>1.61942</td><td>0.0</td><td>0.0</td><td>0.0</td><td>0.0</td><td>0.0</td><td>0.0</td><td>0.0</td><td>0.0</td><td>0.0</td><td>0.0</td><td>0.0</td><td>0.0</td><td>0.0</td><td>0.0</td><td>0.0</td><td>0.999</td><td>0.999</td><td>0.999</td><td>0.001</td><td>S</td><td>4253</td><td>8</td><td>350</td><td>8350</td><td>0</td><td>TGT</td><td>5400.0</td><td>-272.608</td><td>-168.646</td><td>0.0</td><td>0.0</td><td>0</td><td>151.987716675</td><td>29.8390388489</td><td>0.0</td><td>0.0</td><td>0.0</td><td>0.0</td><td>0.0</td><td>0.0</td><td>2</td><td>8</td><td>1519p297</td><td>5400.0</td><td>20200315</td><td>10</td><td>28408</td></tr>\n",
       "<tr><td>288230398226336595</td><td>2</td><td>0</td><td>0</td><td>0</td><td>151.929733276</td><td>29.9063510895</td><td>0.0</td><td>0.0</td><td>0</td><td>0</td><td></td><td>0</td><td>0.0</td><td>0</td><td>0.0</td><td>0.0</td><td>0.0</td><td>0.0</td><td>0.388411</td><td>0.558551</td><td>1.21663</td><td>5.65038</td><td>6.18624</td><td>0.0</td><td>0.0</td><td>0.0</td><td>0.0</td><td>0.0</td><td>0.0</td><td>0.0</td><td>0.0</td><td>0.0</td><td>0.0</td><td>0.0</td><td>0.0</td><td>0.0</td><td>0.0</td><td>0.0</td><td>0.999</td><td>0.999</td><td>0.999</td><td>0.001</td><td>S</td><td>4254</td><td>8</td><td>309</td><td>8309</td><td>0</td><td>TGT</td><td>5400.0</td><td>-259.016</td><td>-151.466</td><td>0.0</td><td>0.0</td><td>0</td><td>151.929733276</td><td>29.9063510895</td><td>0.0</td><td>0.0</td><td>0.0</td><td>0.0</td><td>0.0</td><td>0.0</td><td>2</td><td>8</td><td>1519p300</td><td>5400.0</td><td>20200315</td><td>10</td><td>28408</td></tr>\n",
       "<tr><td>288230398226336569</td><td>2</td><td>0</td><td>0</td><td>0</td><td>151.990264893</td><td>29.7623710632</td><td>0.0</td><td>0.0</td><td>0</td><td>0</td><td></td><td>0</td><td>0.0</td><td>0</td><td>0.0</td><td>0.0</td><td>0.0</td><td>0.0</td><td>0.454828</td><td>0.66976</td><td>1.06594</td><td>1.95634</td><td>1.18871</td><td>0.0</td><td>0.0</td><td>0.0</td><td>0.0</td><td>0.0</td><td>0.0</td><td>0.0</td><td>0.0</td><td>0.0</td><td>0.0</td><td>0.0</td><td>0.0</td><td>0.0</td><td>0.0</td><td>0.0</td><td>0.999</td><td>0.999</td><td>0.999</td><td>0.001</td><td>S</td><td>4256</td><td>8</td><td>393</td><td>8393</td><td>0</td><td>TGT</td><td>5400.0</td><td>-273.906</td><td>-188.164</td><td>0.0</td><td>0.0</td><td>0</td><td>151.990264893</td><td>29.7623710632</td><td>0.0</td><td>0.0</td><td>0.0</td><td>0.0</td><td>0.0</td><td>0.0</td><td>2</td><td>8</td><td>1519p297</td><td>5400.0</td><td>20200315</td><td>10</td><td>28408</td></tr>\n",
       "<tr><td>288230398226336626</td><td>2</td><td>0</td><td>0</td><td>0</td><td>152.071411133</td><td>29.7806777954</td><td>0.0</td><td>0.0</td><td>0</td><td>0</td><td></td><td>0</td><td>0.0</td><td>0</td><td>0.0</td><td>0.0</td><td>0.0</td><td>0.0</td><td>0.670719</td><td>0.923241</td><td>2.22004</td><td>3.78302</td><td>2.66169</td><td>0.0</td><td>0.0</td><td>0.0</td><td>0.0</td><td>0.0</td><td>0.0</td><td>0.0</td><td>0.0</td><td>0.0</td><td>0.0</td><td>0.0</td><td>0.0</td><td>0.0</td><td>0.0</td><td>0.0</td><td>0.999</td><td>0.999</td><td>0.999</td><td>0.001</td><td>S</td><td>4259</td><td>8</td><td>414</td><td>8414</td><td>0</td><td>TGT</td><td>5400.0</td><td>-292.126</td><td>-183.78</td><td>0.0</td><td>0.0</td><td>0</td><td>152.071411133</td><td>29.7806777954</td><td>0.0</td><td>0.0</td><td>0.0</td><td>0.0</td><td>0.0</td><td>0.0</td><td>2</td><td>8</td><td>1519p297</td><td>5400.0</td><td>20200315</td><td>10</td><td>28408</td></tr>\n",
       "<tr><td>288230398226336844</td><td>2</td><td>0</td><td>0</td><td>0</td><td>151.900558472</td><td>29.9603862762</td><td>0.0</td><td>0.0</td><td>0</td><td>0</td><td></td><td>0</td><td>0.0</td><td>0</td><td>0.0</td><td>0.0</td><td>0.0</td><td>0.0</td><td>0.773044</td><td>1.0015</td><td>2.1316</td><td>3.93794</td><td>2.71674</td><td>0.0</td><td>0.0</td><td>0.0</td><td>0.0</td><td>0.0</td><td>0.0</td><td>0.0</td><td>0.0</td><td>0.0</td><td>0.0</td><td>0.0</td><td>0.0</td><td>0.0</td><td>0.0</td><td>0.0</td><td>0.999</td><td>0.999</td><td>0.999</td><td>0.001</td><td>S</td><td>4260</td><td>8</td><td>290</td><td>8290</td><td>0</td><td>TGT</td><td>5400.0</td><td>-252.089</td><td>-137.806</td><td>0.0</td><td>0.0</td><td>0</td><td>151.900558472</td><td>29.9603862762</td><td>0.0</td><td>0.0</td><td>0.0</td><td>0.0</td><td>0.0</td><td>0.0</td><td>2</td><td>8</td><td>1519p300</td><td>5400.0</td><td>20200315</td><td>10</td><td>28408</td></tr>\n",
       "<tr><td>288230398226336710</td><td>2</td><td>0</td><td>0</td><td>0</td><td>151.943954468</td><td>29.7640304565</td><td>0.0</td><td>0.0</td><td>0</td><td>0</td><td></td><td>0</td><td>0.0</td><td>0</td><td>0.0</td><td>0.0</td><td>0.0</td><td>0.0</td><td>0.689709</td><td>0.834829</td><td>1.56216</td><td>2.55891</td><td>1.73825</td><td>0.0</td><td>0.0</td><td>0.0</td><td>0.0</td><td>0.0</td><td>0.0</td><td>0.0</td><td>0.0</td><td>0.0</td><td>0.0</td><td>0.0</td><td>0.0</td><td>0.0</td><td>0.0</td><td>0.0</td><td>0.999</td><td>0.999</td><td>0.999</td><td>0.001</td><td>S</td><td>4263</td><td>8</td><td>372</td><td>8372</td><td>0</td><td>TGT</td><td>5400.0</td><td>-263.445</td><td>-187.579</td><td>0.0</td><td>0.0</td><td>0</td><td>151.943954468</td><td>29.7640304565</td><td>0.0</td><td>0.0</td><td>0.0</td><td>0.0</td><td>0.0</td><td>0.0</td><td>2</td><td>8</td><td>1519p297</td><td>5400.0</td><td>20200315</td><td>10</td><td>28408</td></tr>\n",
       "<tr><td>288230398226336934</td><td>2</td><td>0</td><td>0</td><td>0</td><td>152.067871094</td><td>29.7247180939</td><td>0.0</td><td>0.0</td><td>0</td><td>0</td><td></td><td>0</td><td>0.0</td><td>0</td><td>0.0</td><td>0.0</td><td>0.0</td><td>0.0</td><td>0.763788</td><td>1.09716</td><td>2.03919</td><td>3.7463</td><td>2.38057</td><td>0.0</td><td>0.0</td><td>0.0</td><td>0.0</td><td>0.0</td><td>0.0</td><td>0.0</td><td>0.0</td><td>0.0</td><td>0.0</td><td>0.0</td><td>0.0</td><td>0.0</td><td>0.0</td><td>0.0</td><td>0.999</td><td>0.999</td><td>0.999</td><td>0.001</td><td>S</td><td>4267</td><td>8</td><td>437</td><td>8437</td><td>0</td><td>TGT</td><td>5400.0</td><td>-291.909</td><td>-198.095</td><td>0.0</td><td>0.0</td><td>0</td><td>152.067871094</td><td>29.7247180939</td><td>0.0</td><td>0.0</td><td>0.0</td><td>0.0</td><td>0.0</td><td>0.0</td><td>2</td><td>8</td><td>1519p297</td><td>5400.0</td><td>20200315</td><td>10</td><td>28408</td></tr>\n",
       "<tr><td>288230398226336903</td><td>2</td><td>0</td><td>0</td><td>0</td><td>151.949493408</td><td>29.7962646484</td><td>0.0</td><td>0.0</td><td>0</td><td>0</td><td></td><td>0</td><td>0.0</td><td>0</td><td>0.0</td><td>0.0</td><td>0.0</td><td>0.0</td><td>0.784833</td><td>1.24926</td><td>1.83892</td><td>2.03842</td><td>1.24234</td><td>0.0</td><td>0.0</td><td>0.0</td><td>0.0</td><td>0.0</td><td>0.0</td><td>0.0</td><td>0.0</td><td>0.0</td><td>0.0</td><td>0.0</td><td>0.0</td><td>0.0</td><td>0.0</td><td>0.0</td><td>0.999</td><td>0.999</td><td>0.999</td><td>0.001</td><td>S</td><td>4271</td><td>8</td><td>351</td><td>8351</td><td>0</td><td>TGT</td><td>5400.0</td><td>-264.393</td><td>-179.393</td><td>0.0</td><td>0.0</td><td>0</td><td>151.949493408</td><td>29.7962646484</td><td>0.0</td><td>0.0</td><td>0.0</td><td>0.0</td><td>0.0</td><td>0.0</td><td>2</td><td>8</td><td>1519p297</td><td>5400.0</td><td>20200315</td><td>10</td><td>28408</td></tr>\n",
       "<tr><td>288230398226336523</td><td>2</td><td>0</td><td>0</td><td>0</td><td>151.993774414</td><td>29.8045291901</td><td>0.0</td><td>0.0</td><td>0</td><td>0</td><td></td><td>0</td><td>0.0</td><td>0</td><td>0.0</td><td>0.0</td><td>0.0</td><td>0.0</td><td>0.707314</td><td>0.995759</td><td>1.92754</td><td>4.43398</td><td>3.10393</td><td>0.0</td><td>0.0</td><td>0.0</td><td>0.0</td><td>0.0</td><td>0.0</td><td>0.0</td><td>0.0</td><td>0.0</td><td>0.0</td><td>0.0</td><td>0.0</td><td>0.0</td><td>0.0</td><td>0.0</td><td>0.999</td><td>0.999</td><td>0.999</td><td>0.001</td><td>S</td><td>4278</td><td>8</td><td>371</td><td>8371</td><td>0</td><td>TGT</td><td>5400.0</td><td>-274.293</td><td>-177.433</td><td>0.0</td><td>0.0</td><td>0</td><td>151.993774414</td><td>29.8045291901</td><td>0.0</td><td>0.0</td><td>0.0</td><td>0.0</td><td>0.0</td><td>0.0</td><td>2</td><td>8</td><td>1519p297</td><td>5400.0</td><td>20200315</td><td>10</td><td>28408</td></tr>\n",
       "<tr><td>...</td><td>...</td><td>...</td><td>...</td><td>...</td><td>...</td><td>...</td><td>...</td><td>...</td><td>...</td><td>...</td><td>...</td><td>...</td><td>...</td><td>...</td><td>...</td><td>...</td><td>...</td><td>...</td><td>...</td><td>...</td><td>...</td><td>...</td><td>...</td><td>...</td><td>...</td><td>...</td><td>...</td><td>...</td><td>...</td><td>...</td><td>...</td><td>...</td><td>...</td><td>...</td><td>...</td><td>...</td><td>...</td><td>...</td><td>...</td><td>...</td><td>...</td><td>...</td><td>...</td><td>...</td><td>...</td><td>...</td><td>...</td><td>...</td><td>...</td><td>...</td><td>...</td><td>...</td><td>...</td><td>...</td><td>...</td><td>...</td><td>...</td><td>...</td><td>...</td><td>...</td><td>...</td><td>...</td><td>...</td><td>...</td><td>...</td><td>...</td><td>...</td><td>...</td><td>...</td><td>...</td></tr>\n",
       "<tr><td>288230398226334882</td><td>1152921504606846976</td><td>2</td><td>0</td><td>0</td><td>152.163574219</td><td>29.6536884308</td><td>0.0</td><td>0.0</td><td>0</td><td>0</td><td></td><td>0</td><td>0.0</td><td>0</td><td>0.0</td><td>0.0</td><td>0.0</td><td>0.0</td><td>7.72702</td><td>23.0757</td><td>49.1505</td><td>78.8101</td><td>62.2894</td><td>0.0</td><td>0.0</td><td>0.0</td><td>0.0</td><td>0.0</td><td>0.0</td><td>0.0</td><td>0.0</td><td>0.0</td><td>0.0</td><td>0.0</td><td>0.0</td><td>0.0</td><td>0.0</td><td>0.0</td><td>0.999</td><td>0.999</td><td>0.999</td><td>0.001</td><td>S</td><td>4906</td><td>9</td><td>162</td><td>9162</td><td>0</td><td>TGT</td><td>5400.0</td><td>-73.563</td><td>-208.395</td><td>0.0</td><td>0.0</td><td>0</td><td>152.163574219</td><td>29.6536884308</td><td>0.0</td><td>0.0</td><td>0.0</td><td>0.0</td><td>0.0</td><td>0.0</td><td>2</td><td>9</td><td>1522p297</td><td>5400.0</td><td>20200411</td><td>40</td><td>34170</td></tr>\n",
       "<tr><td>288230398226334283</td><td>1152921504606846976</td><td>2</td><td>0</td><td>0</td><td>152.204162598</td><td>29.6051902771</td><td>0.0</td><td>0.0</td><td>0</td><td>0</td><td></td><td>0</td><td>0.0</td><td>0</td><td>0.0</td><td>0.0</td><td>0.0</td><td>0.0</td><td>15.4106</td><td>21.3779</td><td>25.8524</td><td>15.7383</td><td>11.1646</td><td>0.0</td><td>0.0</td><td>0.0</td><td>0.0</td><td>0.0</td><td>0.0</td><td>0.0</td><td>0.0</td><td>0.0</td><td>0.0</td><td>0.0</td><td>0.0</td><td>0.0</td><td>0.0</td><td>0.0</td><td>0.999</td><td>0.999</td><td>0.999</td><td>0.001</td><td>S</td><td>4907</td><td>9</td><td>191</td><td>9191</td><td>0</td><td>TGT</td><td>5400.0</td><td>-82.4402</td><td>-220.709</td><td>0.0</td><td>0.0</td><td>0</td><td>152.204162598</td><td>29.6051902771</td><td>0.0</td><td>0.0</td><td>0.0</td><td>0.0</td><td>0.0</td><td>0.0</td><td>2</td><td>9</td><td>1523p295</td><td>5400.0</td><td>20200411</td><td>40</td><td>34170</td></tr>\n",
       "<tr><td>288230398226334142</td><td>1152921504606846976</td><td>2</td><td>0</td><td>0</td><td>152.25100708</td><td>29.6112442017</td><td>0.0</td><td>0.0</td><td>0</td><td>0</td><td></td><td>0</td><td>0.0</td><td>0</td><td>0.0</td><td>0.0</td><td>0.0</td><td>0.0</td><td>26.4483</td><td>46.5911</td><td>66.9634</td><td>49.0635</td><td>34.5863</td><td>0.0</td><td>0.0</td><td>0.0</td><td>0.0</td><td>0.0</td><td>0.0</td><td>0.0</td><td>0.0</td><td>0.0</td><td>0.0</td><td>0.0</td><td>0.0</td><td>0.0</td><td>0.0</td><td>0.0</td><td>0.999</td><td>0.999</td><td>0.999</td><td>0.001</td><td>S</td><td>4912</td><td>9</td><td>190</td><td>9190</td><td>0</td><td>TGT</td><td>5400.0</td><td>-92.5148</td><td>-219.244</td><td>0.0</td><td>0.0</td><td>0</td><td>152.25100708</td><td>29.6112442017</td><td>0.0</td><td>0.0</td><td>0.0</td><td>0.0</td><td>0.0</td><td>0.0</td><td>2</td><td>9</td><td>1523p295</td><td>5400.0</td><td>20200411</td><td>40</td><td>34170</td></tr>\n",
       "<tr><td>288230398226334196</td><td>1152921504606846976</td><td>2</td><td>0</td><td>0</td><td>152.217086792</td><td>29.5847473145</td><td>0.0</td><td>0.0</td><td>0</td><td>0</td><td></td><td>0</td><td>0.0</td><td>0</td><td>0.0</td><td>0.0</td><td>0.0</td><td>0.0</td><td>9.53576</td><td>24.015</td><td>42.794</td><td>67.7823</td><td>59.4315</td><td>0.0</td><td>0.0</td><td>0.0</td><td>0.0</td><td>0.0</td><td>0.0</td><td>0.0</td><td>0.0</td><td>0.0</td><td>0.0</td><td>0.0</td><td>0.0</td><td>0.0</td><td>0.0</td><td>0.0</td><td>0.999</td><td>0.999</td><td>0.999</td><td>0.001</td><td>S</td><td>4916</td><td>9</td><td>206</td><td>9206</td><td>0</td><td>TGT</td><td>5400.0</td><td>-85.2948</td><td>-225.913</td><td>0.0</td><td>0.0</td><td>0</td><td>152.217086792</td><td>29.5847473145</td><td>0.0</td><td>0.0</td><td>0.0</td><td>0.0</td><td>0.0</td><td>0.0</td><td>2</td><td>9</td><td>1523p295</td><td>5400.0</td><td>20200411</td><td>40</td><td>34170</td></tr>\n",
       "<tr><td>288230398226334108</td><td>1152921504606846976</td><td>2</td><td>0</td><td>0</td><td>152.248779297</td><td>29.5380439758</td><td>0.0</td><td>0.0</td><td>0</td><td>0</td><td></td><td>0</td><td>0.0</td><td>0</td><td>0.0</td><td>0.0</td><td>0.0</td><td>0.0</td><td>7.87697</td><td>23.7414</td><td>44.2014</td><td>44.5186</td><td>32.4823</td><td>0.0</td><td>0.0</td><td>0.0</td><td>0.0</td><td>0.0</td><td>0.0</td><td>0.0</td><td>0.0</td><td>0.0</td><td>0.0</td><td>0.0</td><td>0.0</td><td>0.0</td><td>0.0</td><td>0.0</td><td>0.999</td><td>0.999</td><td>0.999</td><td>0.001</td><td>S</td><td>4919</td><td>9</td><td>222</td><td>9222</td><td>0</td><td>TGT</td><td>5400.0</td><td>-92.3113</td><td>-237.852</td><td>0.0</td><td>0.0</td><td>0</td><td>152.248779297</td><td>29.5380439758</td><td>0.0</td><td>0.0</td><td>0.0</td><td>0.0</td><td>0.0</td><td>0.0</td><td>2</td><td>9</td><td>1523p295</td><td>5400.0</td><td>20200411</td><td>40</td><td>34170</td></tr>\n",
       "<tr><td>288230398226334771</td><td>1152921504606846976</td><td>2</td><td>0</td><td>0</td><td>152.198806763</td><td>29.665063858</td><td>0.0</td><td>0.0</td><td>0</td><td>0</td><td></td><td>0</td><td>0.0</td><td>0</td><td>0.0</td><td>0.0</td><td>0.0</td><td>0.0</td><td>9.03748</td><td>25.438</td><td>44.4132</td><td>40.1363</td><td>29.0822</td><td>0.0</td><td>0.0</td><td>0.0</td><td>0.0</td><td>0.0</td><td>0.0</td><td>0.0</td><td>0.0</td><td>0.0</td><td>0.0</td><td>0.0</td><td>0.0</td><td>0.0</td><td>0.0</td><td>0.0</td><td>0.999</td><td>0.999</td><td>0.999</td><td>0.001</td><td>S</td><td>4922</td><td>9</td><td>176</td><td>9176</td><td>0</td><td>TGT</td><td>5400.0</td><td>-81.0973</td><td>-205.568</td><td>0.0</td><td>0.0</td><td>0</td><td>152.198806763</td><td>29.665063858</td><td>0.0</td><td>0.0</td><td>0.0</td><td>0.0</td><td>0.0</td><td>0.0</td><td>2</td><td>9</td><td>1522p297</td><td>5400.0</td><td>20200411</td><td>40</td><td>34170</td></tr>\n",
       "<tr><td>288230398226334355</td><td>1152921504606846976</td><td>2</td><td>0</td><td>0</td><td>152.25378418</td><td>29.5652885437</td><td>0.0</td><td>0.0</td><td>0</td><td>0</td><td></td><td>0</td><td>0.0</td><td>0</td><td>0.0</td><td>0.0</td><td>0.0</td><td>0.0</td><td>26.4575</td><td>59.7646</td><td>101.816</td><td>116.454</td><td>90.8601</td><td>0.0</td><td>0.0</td><td>0.0</td><td>0.0</td><td>0.0</td><td>0.0</td><td>0.0</td><td>0.0</td><td>0.0</td><td>0.0</td><td>0.0</td><td>0.0</td><td>0.0</td><td>0.0</td><td>0.0</td><td>0.999</td><td>0.999</td><td>0.999</td><td>0.001</td><td>S</td><td>4933</td><td>9</td><td>221</td><td>9221</td><td>0</td><td>TGT</td><td>5400.0</td><td>-93.2875</td><td>-230.919</td><td>0.0</td><td>0.0</td><td>0</td><td>152.25378418</td><td>29.5652885437</td><td>0.0</td><td>0.0</td><td>0.0</td><td>0.0</td><td>0.0</td><td>0.0</td><td>2</td><td>9</td><td>1523p295</td><td>5400.0</td><td>20200411</td><td>40</td><td>34170</td></tr>\n",
       "<tr><td>288230398226339383</td><td>4294967296</td><td>0</td><td>0</td><td>0</td><td>152.404074343</td><td>29.1555714687</td><td>0.0</td><td>0.0</td><td>0</td><td>0</td><td></td><td>0</td><td>0.0</td><td>0</td><td>0.0</td><td>0.0</td><td>0.0</td><td>0.0</td><td>0.0</td><td>0.0</td><td>0.0</td><td>0.0</td><td>0.0</td><td>0.0</td><td>0.0</td><td>0.0</td><td>0.0</td><td>0.0</td><td>0.0</td><td>0.0</td><td>0.0</td><td>0.0</td><td>0.0</td><td>0.0</td><td>0.0</td><td>0.0</td><td>0.0</td><td>0.0</td><td>0.999</td><td>0.999</td><td>0.999</td><td>0.001</td><td>S</td><td>4952</td><td>9</td><td>459</td><td>9459</td><td>0</td><td>SKY</td><td>5400.0</td><td>-128.365</td><td>-337.982</td><td>0.0</td><td>0.0</td><td>0</td><td>152.404074343</td><td>29.1555714687</td><td>0.0</td><td>0.0</td><td>0.0</td><td>0.0</td><td>0.0</td><td>0.0</td><td>2</td><td>9</td><td>1523p292</td><td>5400.0</td><td>20200411</td><td>40</td><td>34170</td></tr>\n",
       "<tr><td>288230398226339201</td><td>4294967296</td><td>0</td><td>0</td><td>0</td><td>152.418231978</td><td>29.1942027754</td><td>0.0</td><td>0.0</td><td>0</td><td>0</td><td></td><td>0</td><td>0.0</td><td>0</td><td>0.0</td><td>0.0</td><td>0.0</td><td>0.0</td><td>0.0</td><td>0.0</td><td>0.0</td><td>0.0</td><td>0.0</td><td>0.0</td><td>0.0</td><td>0.0</td><td>0.0</td><td>0.0</td><td>0.0</td><td>0.0</td><td>0.0</td><td>0.0</td><td>0.0</td><td>0.0</td><td>0.0</td><td>0.0</td><td>0.0</td><td>0.0</td><td>0.999</td><td>0.999</td><td>0.999</td><td>0.001</td><td>S</td><td>4953</td><td>9</td><td>436</td><td>9436</td><td>0</td><td>SKY</td><td>5400.0</td><td>-131.228</td><td>-327.75</td><td>0.0</td><td>0.0</td><td>0</td><td>152.418231978</td><td>29.1942027754</td><td>0.0</td><td>0.0</td><td>0.0</td><td>0.0</td><td>0.0</td><td>0.0</td><td>2</td><td>9</td><td>1523p292</td><td>5400.0</td><td>20200411</td><td>40</td><td>34170</td></tr>\n",
       "<tr><td>288230398226333999</td><td>1152921504606846976</td><td>1</td><td>0</td><td>0</td><td>152.503387451</td><td>29.2862758636</td><td>0.0</td><td>0.0</td><td>0</td><td>0</td><td></td><td>0</td><td>0.0</td><td>0</td><td>0.0</td><td>0.0</td><td>0.0</td><td>0.0</td><td>6.82962</td><td>13.0323</td><td>20.3054</td><td>20.5054</td><td>15.7273</td><td>0.0</td><td>0.0</td><td>0.0</td><td>0.0</td><td>0.0</td><td>0.0</td><td>0.0</td><td>0.0</td><td>0.0</td><td>0.0</td><td>0.0</td><td>0.0</td><td>0.0</td><td>0.0</td><td>0.0</td><td>0.999</td><td>0.999</td><td>0.999</td><td>0.001</td><td>S</td><td>4964</td><td>9</td><td>411</td><td>9411</td><td>0</td><td>TGT</td><td>5400.0</td><td>-149.393</td><td>-303.743</td><td>0.0</td><td>0.0</td><td>0</td><td>152.503387451</td><td>29.2862758636</td><td>0.0</td><td>0.0</td><td>0.0</td><td>0.0</td><td>0.0</td><td>0.0</td><td>2</td><td>9</td><td>1523p292</td><td>5400.0</td><td>20200411</td><td>40</td><td>34170</td></tr>\n",
       "</table>"
      ],
      "text/plain": [
       "<Table length=1762>\n",
       "     TARGETID          DESI_TARGET     BGS_TARGET ...  NIGHT   EXPID TILEID\n",
       "      int64               int64          int64    ...  int32   int32 int32 \n",
       "------------------ ------------------- ---------- ... -------- ----- ------\n",
       "288230398226336483                   2          0 ... 20200315    10  28408\n",
       "288230398226336494                   2          0 ... 20200315    10  28408\n",
       "288230398226336595                   2          0 ... 20200315    10  28408\n",
       "288230398226336569                   2          0 ... 20200315    10  28408\n",
       "288230398226336626                   2          0 ... 20200315    10  28408\n",
       "288230398226336844                   2          0 ... 20200315    10  28408\n",
       "288230398226336710                   2          0 ... 20200315    10  28408\n",
       "288230398226336934                   2          0 ... 20200315    10  28408\n",
       "288230398226336903                   2          0 ... 20200315    10  28408\n",
       "288230398226336523                   2          0 ... 20200315    10  28408\n",
       "               ...                 ...        ... ...      ...   ...    ...\n",
       "288230398226334882 1152921504606846976          2 ... 20200411    40  34170\n",
       "288230398226334283 1152921504606846976          2 ... 20200411    40  34170\n",
       "288230398226334142 1152921504606846976          2 ... 20200411    40  34170\n",
       "288230398226334196 1152921504606846976          2 ... 20200411    40  34170\n",
       "288230398226334108 1152921504606846976          2 ... 20200411    40  34170\n",
       "288230398226334771 1152921504606846976          2 ... 20200411    40  34170\n",
       "288230398226334355 1152921504606846976          2 ... 20200411    40  34170\n",
       "288230398226339383          4294967296          0 ... 20200411    40  34170\n",
       "288230398226339201          4294967296          0 ... 20200411    40  34170\n",
       "288230398226333999 1152921504606846976          1 ... 20200411    40  34170"
      ]
     },
     "execution_count": 102,
     "metadata": {},
     "output_type": "execute_result"
    }
   ],
   "source": [
    "specobj.fibermap"
   ]
  },
  {
   "cell_type": "code",
   "execution_count": 103,
   "metadata": {},
   "outputs": [
    {
     "data": {
      "text/html": [
       "&lt;Column name=&apos;TARGETID&apos; dtype=&apos;int64&apos; length=875&gt;\n",
       "<table>\n",
       "<tr><td>288230398226336483</td></tr>\n",
       "<tr><td>288230398226336494</td></tr>\n",
       "<tr><td>288230398226336595</td></tr>\n",
       "<tr><td>288230398226336569</td></tr>\n",
       "<tr><td>288230398226336626</td></tr>\n",
       "<tr><td>288230398226336844</td></tr>\n",
       "<tr><td>288230398226336710</td></tr>\n",
       "<tr><td>288230398226336934</td></tr>\n",
       "<tr><td>288230398226336903</td></tr>\n",
       "<tr><td>288230398226336523</td></tr>\n",
       "<tr><td>288230398226336882</td></tr>\n",
       "<tr><td>288230398226336624</td></tr>\n",
       "<tr><td>...</td></tr>\n",
       "<tr><td>288230398226334362</td></tr>\n",
       "<tr><td>288230398226334144</td></tr>\n",
       "<tr><td>288230398226334882</td></tr>\n",
       "<tr><td>288230398226334283</td></tr>\n",
       "<tr><td>288230398226334142</td></tr>\n",
       "<tr><td>288230398226334196</td></tr>\n",
       "<tr><td>288230398226334108</td></tr>\n",
       "<tr><td>288230398226334771</td></tr>\n",
       "<tr><td>288230398226334355</td></tr>\n",
       "<tr><td>288230398226339383</td></tr>\n",
       "<tr><td>288230398226339201</td></tr>\n",
       "<tr><td>288230398226333999</td></tr>\n",
       "</table>"
      ],
      "text/plain": [
       "<Column name='TARGETID' dtype='int64' length=875>\n",
       "288230398226336483\n",
       "288230398226336494\n",
       "288230398226336595\n",
       "288230398226336569\n",
       "288230398226336626\n",
       "288230398226336844\n",
       "288230398226336710\n",
       "288230398226336934\n",
       "288230398226336903\n",
       "288230398226336523\n",
       "288230398226336882\n",
       "288230398226336624\n",
       "               ...\n",
       "288230398226334362\n",
       "288230398226334144\n",
       "288230398226334882\n",
       "288230398226334283\n",
       "288230398226334142\n",
       "288230398226334196\n",
       "288230398226334108\n",
       "288230398226334771\n",
       "288230398226334355\n",
       "288230398226339383\n",
       "288230398226339201\n",
       "288230398226333999"
      ]
     },
     "execution_count": 103,
     "metadata": {},
     "output_type": "execute_result"
    }
   ],
   "source": [
    "specobj.target_ids()"
   ]
  },
  {
   "cell_type": "code",
   "execution_count": 104,
   "metadata": {},
   "outputs": [
    {
     "data": {
      "text/plain": [
       "['R',\n",
       " '__class__',\n",
       " '__delattr__',\n",
       " '__dict__',\n",
       " '__dir__',\n",
       " '__doc__',\n",
       " '__eq__',\n",
       " '__format__',\n",
       " '__ge__',\n",
       " '__getattribute__',\n",
       " '__gt__',\n",
       " '__hash__',\n",
       " '__init__',\n",
       " '__init_subclass__',\n",
       " '__le__',\n",
       " '__lt__',\n",
       " '__module__',\n",
       " '__ne__',\n",
       " '__new__',\n",
       " '__reduce__',\n",
       " '__reduce_ex__',\n",
       " '__repr__',\n",
       " '__setattr__',\n",
       " '__sizeof__',\n",
       " '__str__',\n",
       " '__subclasshook__',\n",
       " '__weakref__',\n",
       " '_bands',\n",
       " '_ftype',\n",
       " '_single',\n",
       " 'bands',\n",
       " 'extra',\n",
       " 'fibermap',\n",
       " 'flux',\n",
       " 'ftype',\n",
       " 'ivar',\n",
       " 'mask',\n",
       " 'meta',\n",
       " 'num_spectra',\n",
       " 'num_targets',\n",
       " 'resolution_data',\n",
       " 'scores',\n",
       " 'select',\n",
       " 'target_ids',\n",
       " 'update',\n",
       " 'wave',\n",
       " 'wavelength_grid']"
      ]
     },
     "execution_count": 104,
     "metadata": {},
     "output_type": "execute_result"
    }
   ],
   "source": [
    "dir(specobj)"
   ]
  },
  {
   "cell_type": "code",
   "execution_count": null,
   "metadata": {},
   "outputs": [],
   "source": []
  }
 ],
 "metadata": {
  "kernelspec": {
   "display_name": "DESI 19.2",
   "language": "python",
   "name": "desi-19.2"
  },
  "language_info": {
   "codemirror_mode": {
    "name": "ipython",
    "version": 3
   },
   "file_extension": ".py",
   "mimetype": "text/x-python",
   "name": "python",
   "nbconvert_exporter": "python",
   "pygments_lexer": "ipython3",
   "version": "3.6.6"
  },
  "toc-showtags": false
 },
 "nbformat": 4,
 "nbformat_minor": 4
}
