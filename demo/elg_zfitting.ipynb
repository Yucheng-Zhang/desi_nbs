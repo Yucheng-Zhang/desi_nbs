{
 "cells": [
  {
   "cell_type": "markdown",
   "metadata": {},
   "source": [
    "# ELG redshift fitting analysis"
   ]
  },
  {
   "cell_type": "code",
   "execution_count": 18,
   "metadata": {},
   "outputs": [
    {
     "name": "stdout",
     "output_type": "stream",
     "text": [
      "Populating the interactive namespace from numpy and matplotlib\n"
     ]
    }
   ],
   "source": [
    "import numpy as np\n",
    "import healpy as hp\n",
    "import fitsio\n",
    "import astropy.table\n",
    "from astropy.table import Table\n",
    "import matplotlib.pyplot as plt\n",
    "from matplotlib import rcParams\n",
    "import h5py\n",
    "%pylab inline\n",
    "\n",
    "# DESI modules\n",
    "import desispec.io\n",
    "from desisim.spec_qa import redshifts as dsq_z\n",
    "from desisim.spec_qa import utils as dsq_u\n",
    "from desitarget.targetmask import desi_mask\n",
    "import redrock.templates"
   ]
  },
  {
   "cell_type": "code",
   "execution_count": 2,
   "metadata": {},
   "outputs": [],
   "source": [
    "froot = '/project/projectdirs/desi/datachallenge/reference_runs/19.2/'\n",
    "f_truth = froot + 'targets/truth.fits'\n",
    "f_zcata = froot + 'spectro/redux/mini/zcatalog-mini.fits'"
   ]
  },
  {
   "cell_type": "markdown",
   "metadata": {},
   "source": [
    "---"
   ]
  },
  {
   "cell_type": "markdown",
   "metadata": {
    "toc-hr-collapsed": false
   },
   "source": [
    "### Load data"
   ]
  },
  {
   "cell_type": "code",
   "execution_count": 3,
   "metadata": {},
   "outputs": [],
   "source": [
    "# truth\n",
    "truth = Table.read(f_truth, 'TRUTH')\n",
    "truth_elg = Table.read(f_truth, 'TRUTH_ELG')\n",
    "truth_bgs = Table.read(f_truth, 'TRUTH_BGS')\n",
    "truth_lrg = Table.read(f_truth, 'TRUTH_LRG')\n",
    "truth_qso = Table.read(f_truth, 'TRUTH_QSO')\n",
    "truth_star = Table.read(f_truth, 'TRUTH_STAR')\n",
    "truth_wd = Table.read(f_truth, 'TRUTH_WD')\n",
    "\n",
    "# zcatalog\n",
    "zcat = Table.read(f_zcata, 'ZCATALOG')\n",
    "\n",
    "# string wsp strip\n",
    "truth['TRUESPECTYPE'] = np.char.strip(truth['TRUESPECTYPE'])\n",
    "truth['TEMPLATETYPE'] = np.char.strip(truth['TEMPLATETYPE'])\n",
    "zcat['SPECTYPE'] = np.char.strip(zcat['SPECTYPE'])\n",
    "zcat['SUBTYPE'] = np.char.strip(zcat['SUBTYPE'])\n",
    "\n",
    "# del EXTNAME for join\n",
    "del truth.meta['EXTNAME']\n",
    "del truth_elg.meta['EXTNAME']\n",
    "del truth_bgs.meta['EXTNAME']\n",
    "del truth_lrg.meta['EXTNAME']\n",
    "del truth_qso.meta['EXTNAME']\n",
    "del truth_star.meta['EXTNAME']\n",
    "del truth_wd.meta['EXTNAME']\n",
    "del zcat.meta['EXTNAME']"
   ]
  },
  {
   "cell_type": "markdown",
   "metadata": {},
   "source": [
    "### Make one table `ztruth`\n",
    "- Targets:\n",
    "  1. With TARGETID in both TRUTH and ZCATALOG\n",
    "  2. DESI_TARGET == ELG\n",
    "  3. TARGETID >= 0"
   ]
  },
  {
   "cell_type": "code",
   "execution_count": 4,
   "metadata": {},
   "outputs": [
    {
     "name": "stdout",
     "output_type": "stream",
     "text": [
      "['TARGETID', 'TRUEZ', 'TRUESPECTYPE', 'TEMPLATETYPE', 'Z', 'ZERR', 'ZWARN', 'SPECTYPE', 'SUBTYPE', 'DESI_TARGET', 'HPXPIXEL', 'OIIFLUX', 'OIIDOUBLET']\n"
     ]
    }
   ],
   "source": [
    "# select columns\n",
    "truth_s = truth['TARGETID', 'TRUEZ', 'TRUESPECTYPE', 'TEMPLATETYPE']\n",
    "zcat_s = zcat['TARGETID', 'Z', 'ZERR', 'ZWARN', 'SPECTYPE', 'SUBTYPE', 'DESI_TARGET', 'HPXPIXEL']\n",
    "# DESI_TARGET == ELG\n",
    "idx = (zcat['DESI_TARGET'] & desi_mask.mask('ELG')) != 0\n",
    "zcat_s = zcat_s[idx]\n",
    "\n",
    "# join table\n",
    "ztruth = astropy.table.join(truth_s, zcat_s, keys='TARGETID', join_type='inner')\n",
    "\n",
    "# append info for TRUTH ELGs\n",
    "truth_elg_s = truth_elg['TARGETID', 'OIIFLUX', 'OIIDOUBLET']\n",
    "ztruth = astropy.table.join(ztruth, truth_elg_s, keys='TARGETID', join_type='left')\n",
    "\n",
    "# check if TARGETID >= 0\n",
    "assert np.all(ztruth['TARGETID'] >= 0)\n",
    "\n",
    "print(ztruth.colnames)"
   ]
  },
  {
   "cell_type": "markdown",
   "metadata": {},
   "source": [
    "---"
   ]
  },
  {
   "cell_type": "markdown",
   "metadata": {},
   "source": [
    "### True types check"
   ]
  },
  {
   "cell_type": "code",
   "execution_count": 5,
   "metadata": {},
   "outputs": [
    {
     "name": "stdout",
     "output_type": "stream",
     "text": [
      "Total number of targets selected w/ DESI_TARGET==ELG:  17204 \n",
      "\n",
      "True Spec Type:\n",
      "      STAR :     43\n",
      "    GALAXY :  17161\n",
      "Template Type:\n",
      "      STAR :     43\n",
      "       BGS :   1576\n",
      "       ELG :  15585\n",
      "Redrock Spec Type:\n",
      "       QSO :      2\n",
      "    GALAXY :  17202\n",
      "Redrock Sub Type:\n",
      "           :  17204\n"
     ]
    }
   ],
   "source": [
    "print('Total number of targets selected w/ DESI_TARGET==ELG: ', len(ztruth), '\\n')\n",
    "\n",
    "print('True Spec Type:')\n",
    "for st in set(ztruth['TRUESPECTYPE']):\n",
    "    print('  {:>8s} : {:>6d}'.format(st, np.count_nonzero(ztruth['TRUESPECTYPE']==st)))\n",
    "\n",
    "print('Template Type:')\n",
    "for tt in set(ztruth['TEMPLATETYPE']):\n",
    "    print('  {:>8s} : {:>6d}'.format(tt, np.count_nonzero(ztruth['TEMPLATETYPE']==tt)))\n",
    "\n",
    "print('Redrock Spec Type:')\n",
    "for st in set(ztruth['SPECTYPE']):\n",
    "    print('  {:>8s} : {:>6d}'.format(st, np.count_nonzero(ztruth['SPECTYPE']==st)))\n",
    "\n",
    "print('Redrock Sub Type:')\n",
    "for st in set(ztruth['SUBTYPE']):\n",
    "    print('  {:>8s} : {:>6d}'.format(st, np.count_nonzero(ztruth['SUBTYPE']==st)))"
   ]
  },
  {
   "cell_type": "markdown",
   "metadata": {},
   "source": [
    "- Some simulated BGS's and STARs are identified as ELGs.\n",
    "- All simulated ELGs are still identified as ELGs (checked in another notebook).\n",
    "- Q: How are `DESI_TARGET` types determined?"
   ]
  },
  {
   "cell_type": "markdown",
   "metadata": {},
   "source": [
    "---"
   ]
  },
  {
   "cell_type": "markdown",
   "metadata": {},
   "source": [
    "### Get Redrock templates"
   ]
  },
  {
   "cell_type": "code",
   "execution_count": 20,
   "metadata": {},
   "outputs": [
    {
     "name": "stdout",
     "output_type": "stream",
     "text": [
      "DEBUG: Read templates from /global/common/software/desi/cori/desiconda/20180709-1.2.6-spec/code/redrock-templates/0.7\n",
      "DEBUG: Using default redshift range -0.0050-1.6997 for rrtemplate-galaxy.fits\n",
      "DEBUG: Using default redshift range 0.0500-5.9934 for rrtemplate-qso.fits\n",
      "DEBUG: Using default redshift range -0.0020-0.0020 for rrtemplate-star-A.fits\n",
      "DEBUG: Using default redshift range -0.0020-0.0020 for rrtemplate-star-B.fits\n",
      "DEBUG: Using default redshift range -0.0020-0.0020 for rrtemplate-star-CV.fits\n",
      "DEBUG: Using default redshift range -0.0020-0.0020 for rrtemplate-star-F.fits\n",
      "DEBUG: Using default redshift range -0.0020-0.0020 for rrtemplate-star-G.fits\n",
      "DEBUG: Using default redshift range -0.0020-0.0020 for rrtemplate-star-K.fits\n",
      "DEBUG: Using default redshift range -0.0020-0.0020 for rrtemplate-star-M.fits\n",
      "DEBUG: Using default redshift range -0.0020-0.0020 for rrtemplate-star-WD.fits\n"
     ]
    },
    {
     "data": {
      "text/plain": [
       "{('GALAXY', ''): <redrock.templates.Template at 0x2aaaf23a9a90>,\n",
       " ('QSO', ''): <redrock.templates.Template at 0x2aaaf2603668>,\n",
       " ('STAR', 'A'): <redrock.templates.Template at 0x2aaaf262dcc0>,\n",
       " ('STAR', 'B'): <redrock.templates.Template at 0x2aaaf23a92b0>,\n",
       " ('STAR', 'CV'): <redrock.templates.Template at 0x2aaaf25e4cf8>,\n",
       " ('STAR', 'F'): <redrock.templates.Template at 0x2aaaf25e4898>,\n",
       " ('STAR', 'G'): <redrock.templates.Template at 0x2aaaf2603a58>,\n",
       " ('STAR', 'K'): <redrock.templates.Template at 0x2aaaf2603d68>,\n",
       " ('STAR', 'M'): <redrock.templates.Template at 0x2aaaf2603588>,\n",
       " ('STAR', 'WD'): <redrock.templates.Template at 0x2aaaf2603630>}"
      ]
     },
     "execution_count": 20,
     "metadata": {},
     "output_type": "execute_result"
    }
   ],
   "source": [
    "templates = dict()\n",
    "for filename in redrock.templates.find_templates():\n",
    "    t = redrock.templates.Template(filename)\n",
    "    templates[(t.template_type, t.sub_type)] = t\n",
    "\n",
    "templates"
   ]
  },
  {
   "cell_type": "markdown",
   "metadata": {},
   "source": [
    "---"
   ]
  },
  {
   "cell_type": "markdown",
   "metadata": {},
   "source": [
    "### Functions"
   ]
  },
  {
   "cell_type": "code",
   "execution_count": 22,
   "metadata": {},
   "outputs": [],
   "source": [
    "def get_specot(tid):\n",
    "    '''get the spectra object for one target given the target id'''\n",
    "    idx = (ztruth['TARGETID'] == tid)\n",
    "    ipix = ztruth[idx]['HPXPIXEL'][0]\n",
    "    spec_path = 'spectro/redux/mini/spectra-64/{:d}/{:d}/'.format(ipix//100, ipix)\n",
    "    specobj = desispec.io.read_spectra(froot + spec_path + 'spectra-64-{:d}.fits'.format(ipix))\n",
    "    specot = specobj.select(targets=[tid])\n",
    "    return specot\n",
    "\n",
    "\n",
    "def get_tempot(tid):\n",
    "    '''get the best-fit template wave and flux for one target'''\n",
    "    idx = (ztruth['TARGETID'] == tid)\n",
    "    spectype = ztruth[idx]['SPECTYPE'][0]\n",
    "    subtype = ztruth[idx]['SUBTYPE'][0]\n",
    "    fulltype = (spectype, subtype)\n",
    "    ncoeff = templates[fulltype].flux.shape[0]\n",
    "    coeff = fh5['zbest']['coeff'][idx][0][:ncoeff]\n",
    "    tflux = templates[fulltype].flux.T.dot(coeff)\n",
    "    z = ztruth[idx]['Z'][0]\n",
    "    twave = templates[fulltype].wave * (1 + z)\n",
    "    return twave, tflux"
   ]
  },
  {
   "cell_type": "markdown",
   "metadata": {},
   "source": [
    "---"
   ]
  },
  {
   "cell_type": "markdown",
   "metadata": {},
   "source": [
    "### Masks"
   ]
  },
  {
   "cell_type": "code",
   "execution_count": 32,
   "metadata": {},
   "outputs": [
    {
     "name": "stdout",
     "output_type": "stream",
     "text": [
      "     ELG     ntarg    good   fail   miss   lost\n",
      "  number     17204   13918    108   1415   1763\n",
      " percent     100.0    80.9    0.6    8.2   10.2\n"
     ]
    }
   ],
   "source": [
    "# goodm fail, miss and lost\n",
    "objtype_mask, z_mask, survey_mask, dv_mask, zwarn_mask = dsq_z.criteria(ztruth, objtype='ELG')\n",
    "good_mask = zwarn_mask & dv_mask & objtype_mask & z_mask\n",
    "fail_mask = zwarn_mask & (~dv_mask) & objtype_mask & z_mask\n",
    "miss_mask = (~zwarn_mask) & dv_mask & objtype_mask & z_mask\n",
    "lost_mask = (~zwarn_mask) & (~dv_mask) & objtype_mask & z_mask\n",
    "tot_mask = objtype_mask & z_mask\n",
    "\n",
    "ntot = np.count_nonzero(tot_mask)\n",
    "\n",
    "ngood = np.count_nonzero(good_mask)\n",
    "nfail = np.count_nonzero(fail_mask)\n",
    "nmiss = np.count_nonzero(miss_mask)\n",
    "nlost = np.count_nonzero(lost_mask)\n",
    "\n",
    "pgood = ngood * 100 / ntot\n",
    "pfail = nfail * 100 / ntot\n",
    "pmiss = nmiss * 100 / ntot\n",
    "plost = nlost * 100 / ntot\n",
    "\n",
    "print('     ELG     ntarg    good   fail   miss   lost')\n",
    "print('{:>8s}  {:8d}   {:5d}  {:5d}  {:5d}  {:5d}'.format('number', ntot, ngood, nfail, nmiss, nlost))\n",
    "print('{:>8s}  {:8.1f}   {:5.1f}  {:5.1f}  {:5.1f}  {:5.1f}'.format('percent', 100.0, pgood, pfail, pmiss, plost))\n",
    "\n",
    "ztruth_good = ztruth[good_mask]\n",
    "ztruth_fail = ztruth[fail_mask]\n",
    "ztruth_miss = ztruth[miss_mask]\n",
    "ztruth_lost = ztruth[lost_mask]"
   ]
  },
  {
   "cell_type": "markdown",
   "metadata": {},
   "source": [
    "---"
   ]
  },
  {
   "cell_type": "markdown",
   "metadata": {},
   "source": [
    "## Fail"
   ]
  },
  {
   "cell_type": "code",
   "execution_count": null,
   "metadata": {},
   "outputs": [],
   "source": []
  }
 ],
 "metadata": {
  "kernelspec": {
   "display_name": "DESI 19.2",
   "language": "python",
   "name": "desi-19.2"
  },
  "language_info": {
   "codemirror_mode": {
    "name": "ipython",
    "version": 3
   },
   "file_extension": ".py",
   "mimetype": "text/x-python",
   "name": "python",
   "nbconvert_exporter": "python",
   "pygments_lexer": "ipython3",
   "version": "3.6.6"
  },
  "toc-autonumbering": false,
  "toc-showcode": false,
  "toc-showmarkdowntxt": true
 },
 "nbformat": 4,
 "nbformat_minor": 4
}
