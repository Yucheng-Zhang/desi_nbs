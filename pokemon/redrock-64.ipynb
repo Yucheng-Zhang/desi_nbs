{
 "cells": [
  {
   "cell_type": "markdown",
   "metadata": {},
   "source": [
    "## Redrock fitting output for a group of targets"
   ]
  },
  {
   "cell_type": "code",
   "execution_count": 2,
   "metadata": {},
   "outputs": [
    {
     "name": "stdout",
     "output_type": "stream",
     "text": [
      "Populating the interactive namespace from numpy and matplotlib\n"
     ]
    }
   ],
   "source": [
    "import h5py\n",
    "import numpy as np\n",
    "import matplotlib.pyplot as plt\n",
    "from matplotlib import rcParams\n",
    "%pylab inline"
   ]
  },
  {
   "cell_type": "code",
   "execution_count": 3,
   "metadata": {},
   "outputs": [],
   "source": [
    "froot = '/project/projectdirs/desi/datachallenge/reference_runs/19.2/'\n",
    "ipix = 5263\n",
    "spec_path = 'spectro/redux/mini/spectra-64/{:d}/{:d}/'.format(ipix//100, ipix)\n",
    "fh5 = froot + spec_path + 'redrock-64-{:d}.h5'.format(ipix)"
   ]
  },
  {
   "cell_type": "code",
   "execution_count": 4,
   "metadata": {},
   "outputs": [
    {
     "name": "stdout",
     "output_type": "stream",
     "text": [
      "['targetids', 'zbest', 'zfit', 'zscan']\n"
     ]
    }
   ],
   "source": [
    "rrh5 = h5py.File(fh5, 'r')\n",
    "print(list(rrh5.keys()))"
   ]
  },
  {
   "cell_type": "markdown",
   "metadata": {},
   "source": [
    "---"
   ]
  },
  {
   "cell_type": "markdown",
   "metadata": {},
   "source": [
    "### targetids"
   ]
  },
  {
   "cell_type": "code",
   "execution_count": 5,
   "metadata": {},
   "outputs": [
    {
     "data": {
      "text/plain": [
       "<HDF5 dataset \"targetids\": shape (875,), type \"<i8\">"
      ]
     },
     "execution_count": 5,
     "metadata": {},
     "output_type": "execute_result"
    }
   ],
   "source": [
    "rrh5['targetids']"
   ]
  },
  {
   "cell_type": "code",
   "execution_count": 6,
   "metadata": {},
   "outputs": [
    {
     "name": "stdout",
     "output_type": "stream",
     "text": [
      "288230398226333718\n"
     ]
    }
   ],
   "source": [
    "idx = 10\n",
    "tid = rrh5['targetids'][idx]\n",
    "print(tid)"
   ]
  },
  {
   "cell_type": "markdown",
   "metadata": {},
   "source": [
    "---"
   ]
  },
  {
   "cell_type": "markdown",
   "metadata": {},
   "source": [
    "### zbest"
   ]
  },
  {
   "cell_type": "code",
   "execution_count": 7,
   "metadata": {},
   "outputs": [
    {
     "data": {
      "text/plain": [
       "<HDF5 dataset \"zbest\": shape (875,), type \"|V400\">"
      ]
     },
     "execution_count": 7,
     "metadata": {},
     "output_type": "execute_result"
    }
   ],
   "source": [
    "rrh5['zbest']"
   ]
  },
  {
   "cell_type": "code",
   "execution_count": 8,
   "metadata": {},
   "outputs": [
    {
     "name": "stdout",
     "output_type": "stream",
     "text": [
      "('targetid', 'chi2', 'coeff', 'z', 'zerr', 'zwarn', 'zz', 'zzchi2', 'npixels', 'spectype', 'subtype', 'ncoeff', 'deltachi2', 'NUMEXP', 'NUMTILE')\n"
     ]
    }
   ],
   "source": [
    "print(rrh5['zbest'].dtype.names)"
   ]
  },
  {
   "cell_type": "code",
   "execution_count": 9,
   "metadata": {},
   "outputs": [
    {
     "name": "stdout",
     "output_type": "stream",
     "text": [
      "targetid\n",
      "288230398226333718\n",
      "------------------------------------------------------------\n",
      "chi2\n",
      "8707.04221664\n",
      "------------------------------------------------------------\n",
      "coeff\n",
      "[  31.20463288  335.33502521  -79.62722865   74.11621399   -7.49455108\n",
      "    1.19096598  -40.81881605    2.96172409    2.0700932    -9.90930506]\n",
      "------------------------------------------------------------\n",
      "z\n",
      "0.352423509173\n",
      "------------------------------------------------------------\n",
      "zerr\n",
      "0.000121192125755\n",
      "------------------------------------------------------------\n",
      "zwarn\n",
      "0\n",
      "------------------------------------------------------------\n",
      "zz\n",
      "[ 0.35121072  0.35134415  0.35147758  0.35161101  0.35174445  0.35187788\n",
      "  0.35201131  0.35214474  0.35227818  0.35241161  0.35254504  0.35267847\n",
      "  0.35281191  0.35294534  0.35307877]\n",
      "------------------------------------------------------------\n",
      "zzchi2\n",
      "[ 8726.50457076  8734.17679248  8728.21310085  8718.48112082  8719.17502616\n",
      "  8717.74409611  8714.21812292  8712.01053899  8708.48027427  8707.05185785\n",
      "  8708.04784674  8708.16043139  8708.38909528  8710.07934021  8713.27144466]\n",
      "------------------------------------------------------------\n",
      "npixels\n",
      "8591\n",
      "------------------------------------------------------------\n",
      "spectype\n",
      "b'GALAXY'\n",
      "------------------------------------------------------------\n",
      "subtype\n",
      "b''\n",
      "------------------------------------------------------------\n",
      "ncoeff\n",
      "10\n",
      "------------------------------------------------------------\n",
      "deltachi2\n",
      "45.301837476\n",
      "------------------------------------------------------------\n",
      "NUMEXP\n",
      "2\n",
      "------------------------------------------------------------\n",
      "NUMTILE\n",
      "1\n",
      "------------------------------------------------------------\n"
     ]
    }
   ],
   "source": [
    "for name in rrh5['zbest'].dtype.names:\n",
    "    print(name)\n",
    "    print(rrh5['zbest'][idx][name])\n",
    "    print('-'*60)"
   ]
  },
  {
   "cell_type": "markdown",
   "metadata": {},
   "source": [
    "---"
   ]
  },
  {
   "cell_type": "markdown",
   "metadata": {},
   "source": [
    "### zfit"
   ]
  },
  {
   "cell_type": "code",
   "execution_count": 10,
   "metadata": {},
   "outputs": [
    {
     "data": {
      "text/plain": [
       "<HDF5 group \"/zfit\" (875 members)>"
      ]
     },
     "execution_count": 10,
     "metadata": {},
     "output_type": "execute_result"
    }
   ],
   "source": [
    "rrh5['zfit']"
   ]
  },
  {
   "cell_type": "code",
   "execution_count": 11,
   "metadata": {},
   "outputs": [
    {
     "data": {
      "text/plain": [
       "['zfit']"
      ]
     },
     "execution_count": 11,
     "metadata": {},
     "output_type": "execute_result"
    }
   ],
   "source": [
    "# keys are the target ids as string\n",
    "list(rrh5['zfit'][str(tid)].keys())"
   ]
  },
  {
   "cell_type": "code",
   "execution_count": 12,
   "metadata": {},
   "outputs": [
    {
     "name": "stdout",
     "output_type": "stream",
     "text": [
      "('targetid', 'chi2', 'coeff', 'z', 'zerr', 'zwarn', 'zz', 'zzchi2', 'npixels', 'spectype', 'subtype', 'ncoeff', 'znum', 'deltachi2', 'NUMEXP', 'NUMTILE')\n"
     ]
    }
   ],
   "source": [
    "print(rrh5['zfit'][str(tid)]['zfit'].dtype.names)"
   ]
  },
  {
   "cell_type": "code",
   "execution_count": 105,
   "metadata": {},
   "outputs": [
    {
     "name": "stdout",
     "output_type": "stream",
     "text": [
      "   8707.04      45.30\n",
      "   8752.34       4.42\n",
      "   8756.77      16.58\n",
      "   8773.34      39.18\n",
      "   8812.53      12.80\n",
      "   8825.33       1.39\n",
      "   8826.72      24.60\n",
      "   8851.32       0.00\n",
      "   8962.24       0.00\n"
     ]
    }
   ],
   "source": [
    "# more fitted chi2 besides the best one\n",
    "for chi2, deltachi2 in zip(rrh5['zfit'][str(tid)]['zfit']['chi2'], \n",
    "                           rrh5['zfit'][str(tid)]['zfit']['deltachi2']):\n",
    "    print('{:10.2f} {:10.2f}'.format(chi2, deltachi2))"
   ]
  },
  {
   "cell_type": "markdown",
   "metadata": {},
   "source": [
    "---"
   ]
  },
  {
   "cell_type": "markdown",
   "metadata": {},
   "source": [
    "### zscan"
   ]
  },
  {
   "cell_type": "code",
   "execution_count": 106,
   "metadata": {},
   "outputs": [
    {
     "data": {
      "text/plain": [
       "<HDF5 group \"/zscan\" (10 members)>"
      ]
     },
     "execution_count": 106,
     "metadata": {},
     "output_type": "execute_result"
    }
   ],
   "source": [
    "rrh5['zscan']"
   ]
  },
  {
   "cell_type": "code",
   "execution_count": 39,
   "metadata": {},
   "outputs": [
    {
     "data": {
      "text/plain": [
       "['GALAXY',\n",
       " 'QSO',\n",
       " 'STAR:::A',\n",
       " 'STAR:::B',\n",
       " 'STAR:::CV',\n",
       " 'STAR:::F',\n",
       " 'STAR:::G',\n",
       " 'STAR:::K',\n",
       " 'STAR:::M',\n",
       " 'STAR:::WD']"
      ]
     },
     "execution_count": 39,
     "metadata": {},
     "output_type": "execute_result"
    }
   ],
   "source": [
    "list(rrh5['zscan'].keys())"
   ]
  },
  {
   "cell_type": "code",
   "execution_count": 107,
   "metadata": {},
   "outputs": [
    {
     "data": {
      "text/plain": [
       "<HDF5 group \"/zscan/GALAXY\" (4 members)>"
      ]
     },
     "execution_count": 107,
     "metadata": {},
     "output_type": "execute_result"
    }
   ],
   "source": [
    "rrh5['zscan']['GALAXY']"
   ]
  },
  {
   "cell_type": "code",
   "execution_count": 108,
   "metadata": {},
   "outputs": [
    {
     "data": {
      "text/plain": [
       "['penalty', 'redshifts', 'zchi2', 'zcoeff']"
      ]
     },
     "execution_count": 108,
     "metadata": {},
     "output_type": "execute_result"
    }
   ],
   "source": [
    "list(rrh5['zscan']['GALAXY'].keys())"
   ]
  },
  {
   "cell_type": "code",
   "execution_count": 115,
   "metadata": {},
   "outputs": [
    {
     "name": "stdout",
     "output_type": "stream",
     "text": [
      "<HDF5 dataset \"penalty\": shape (875, 1446), type \"<f8\">\n",
      "<HDF5 dataset \"redshifts\": shape (1446,), type \"<f8\">\n",
      "<HDF5 dataset \"zchi2\": shape (875, 1446), type \"<f8\">\n",
      "<HDF5 dataset \"zcoeff\": shape (875, 1446, 10), type \"<f8\">\n"
     ]
    }
   ],
   "source": [
    "for kk in rrh5['zscan']['GALAXY'].keys():\n",
    "    print(rrh5['zscan']['GALAXY'][kk])"
   ]
  },
  {
   "cell_type": "code",
   "execution_count": 132,
   "metadata": {},
   "outputs": [
    {
     "data": {
      "image/png": "[encoded data removed]",
      "text/plain": [
       "<matplotlib.figure.Figure at 0x2aaae1fc7630>"
      ]
     },
     "metadata": {},
     "output_type": "display_data"
    }
   ],
   "source": [
    "# plot all chi2\n",
    "rcParams['figure.figsize'] = [16, 10]\n",
    "rcParams['font.size'] = 20\n",
    "fig, (ax) = plt.subplots(1, 1)\n",
    "\n",
    "templates = list(rrh5['zscan'])\n",
    "for tt in templates:\n",
    "#     if tt != 'GALAXY': continue\n",
    "    redshifts = rrh5['zscan'][tt]['redshifts']\n",
    "    zchi2 = rrh5['zscan'][tt]['zchi2'][idx]\n",
    "    ax.plot(redshifts, zchi2, label=tt)\n",
    "\n",
    "ax.set_xlabel('redshift')\n",
    "ax.set_ylabel('$\\chi^2$')\n",
    "\n",
    "ax.legend()\n",
    "plt.show()"
   ]
  },
  {
   "cell_type": "code",
   "execution_count": null,
   "metadata": {},
   "outputs": [],
   "source": []
  }
 ],
 "metadata": {
  "kernelspec": {
   "display_name": "DESI 19.2",
   "language": "python",
   "name": "desi-19.2"
  },
  "language_info": {
   "codemirror_mode": {
    "name": "ipython",
    "version": 3
   },
   "file_extension": ".py",
   "mimetype": "text/x-python",
   "name": "python",
   "nbconvert_exporter": "python",
   "pygments_lexer": "ipython3",
   "version": "3.6.6"
  }
 },
 "nbformat": 4,
 "nbformat_minor": 4
}
