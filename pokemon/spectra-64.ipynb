{
 "cells": [
  {
   "cell_type": "markdown",
   "metadata": {},
   "source": [
    "## Simulated spectra for a grouped of targets"
   ]
  },
  {
   "cell_type": "code",
   "execution_count": 1,
   "metadata": {},
   "outputs": [
    {
     "name": "stdout",
     "output_type": "stream",
     "text": [
      "Populating the interactive namespace from numpy and matplotlib\n"
     ]
    }
   ],
   "source": [
    "import numpy as np\n",
    "import fitsio\n",
    "import astropy.io\n",
    "from astropy.table import Table\n",
    "import matplotlib.pyplot as plt\n",
    "from matplotlib import rcParams\n",
    "%pylab inline\n",
    "\n",
    "# DESI modules\n",
    "import desispec.io"
   ]
  },
  {
   "cell_type": "code",
   "execution_count": 2,
   "metadata": {},
   "outputs": [],
   "source": [
    "froot = '/project/projectdirs/desi/datachallenge/reference_runs/19.2/'\n",
    "ipix = 5263\n",
    "spec_path = 'spectro/redux/mini/spectra-64/{:d}/{:d}/'.format(ipix//100, ipix)\n",
    "f_spec = froot + spec_path + 'spectra-64-{:d}.fits'.format(ipix)"
   ]
  },
  {
   "cell_type": "code",
   "execution_count": 3,
   "metadata": {},
   "outputs": [
    {
     "data": {
      "text/plain": [
       "\n",
       "  file: /project/projectdirs/desi/datachallenge/reference_runs/19.2/spectro/redux/mini/spectra-64/52/5263/spectra-64-5263.fits\n",
       "  mode: READONLY\n",
       "  extnum hdutype         hduname[v]\n",
       "  0      IMAGE_HDU       \n",
       "  1      BINARY_TBL      FIBERMAP\n",
       "  2      BINARY_TBL      SCORES\n",
       "  3      IMAGE_HDU       B_WAVELENGTH\n",
       "  4      IMAGE_HDU       B_FLUX\n",
       "  5      IMAGE_HDU       B_IVAR\n",
       "  6      IMAGE_HDU       B_MASK\n",
       "  7      IMAGE_HDU       B_RESOLUTION\n",
       "  8      IMAGE_HDU       R_WAVELENGTH\n",
       "  9      IMAGE_HDU       R_FLUX\n",
       "  10     IMAGE_HDU       R_IVAR\n",
       "  11     IMAGE_HDU       R_MASK\n",
       "  12     IMAGE_HDU       R_RESOLUTION\n",
       "  13     IMAGE_HDU       Z_WAVELENGTH\n",
       "  14     IMAGE_HDU       Z_FLUX\n",
       "  15     IMAGE_HDU       Z_IVAR\n",
       "  16     IMAGE_HDU       Z_MASK\n",
       "  17     IMAGE_HDU       Z_RESOLUTION"
      ]
     },
     "execution_count": 3,
     "metadata": {},
     "output_type": "execute_result"
    }
   ],
   "source": [
    "fitsio.FITS(f_spec)"
   ]
  },
  {
   "cell_type": "code",
   "execution_count": 4,
   "metadata": {},
   "outputs": [],
   "source": [
    "fm = Table.read(f_spec, 'FIBERMAP')\n",
    "scores = Table.read(f_spec, 'SCORES')"
   ]
  },
  {
   "cell_type": "markdown",
   "metadata": {},
   "source": [
    "---"
   ]
  },
  {
   "cell_type": "markdown",
   "metadata": {},
   "source": [
    "### FIBERMAP"
   ]
  },
  {
   "cell_type": "code",
   "execution_count": 5,
   "metadata": {},
   "outputs": [
    {
     "name": "stdout",
     "output_type": "stream",
     "text": [
      "['TARGETID', 'DESI_TARGET', 'BGS_TARGET', 'MWS_TARGET', 'SECONDARY_TARGET', 'TARGET_RA', 'TARGET_DEC', 'TARGET_RA_IVAR', 'TARGET_DEC_IVAR', 'BRICKID', 'BRICK_OBJID', 'MORPHTYPE', 'PRIORITY', 'SUBPRIORITY', 'REF_ID', 'PMRA', 'PMDEC', 'PMRA_IVAR', 'PMDEC_IVAR', 'FLUX_G', 'FLUX_R', 'FLUX_Z', 'FLUX_W1', 'FLUX_W2', 'FLUX_IVAR_G', 'FLUX_IVAR_R', 'FLUX_IVAR_Z', 'FLUX_IVAR_W1', 'FLUX_IVAR_W2', 'FIBERFLUX_G', 'FIBERFLUX_R', 'FIBERFLUX_Z', 'FIBERFLUX_W1', 'FIBERFLUX_W2', 'FIBERTOTFLUX_G', 'FIBERTOTFLUX_R', 'FIBERTOTFLUX_Z', 'FIBERTOTFLUX_W1', 'FIBERTOTFLUX_W2', 'MW_TRANSMISSION_G', 'MW_TRANSMISSION_R', 'MW_TRANSMISSION_Z', 'EBV', 'PHOTSYS', 'FIBER', 'PETAL_LOC', 'DEVICE_LOC', 'LOCATION', 'FIBERSTATUS', 'OBJTYPE', 'LAMBDA_REF', 'DESIGN_X', 'DESIGN_Y', 'DESIGN_Q', 'DESIGN_S', 'NUMTARGET', 'FIBER_RA', 'FIBER_DEC', 'FIBER_RA_IVAR', 'FIBER_DEC_IVAR', 'DELTA_X', 'DELTA_Y', 'DELTA_X_IVAR', 'DELTA_Y_IVAR', 'NUM_ITER', 'SPECTROID', 'BRICKNAME', 'LAMBDAREF', 'NIGHT', 'EXPID', 'TILEID']\n"
     ]
    }
   ],
   "source": [
    "print(fm.colnames)"
   ]
  },
  {
   "cell_type": "code",
   "execution_count": 6,
   "metadata": {},
   "outputs": [
    {
     "name": "stdout",
     "output_type": "stream",
     "text": [
      "(1762,)\n",
      "875\n"
     ]
    }
   ],
   "source": [
    "print(fm['TARGETID'].shape)\n",
    "print(len(set(fm['TARGETID'])))"
   ]
  },
  {
   "cell_type": "code",
   "execution_count": 7,
   "metadata": {},
   "outputs": [
    {
     "data": {
      "text/plain": [
       "{0,\n",
       " 2,\n",
       " 4,\n",
       " 9,\n",
       " 17,\n",
       " 4294967296,\n",
       " 1152921504606846976,\n",
       " 2305843009213693952,\n",
       " 2305843017803628544,\n",
       " 2305843026393563136,\n",
       " 2305843052163366912}"
      ]
     },
     "execution_count": 7,
     "metadata": {},
     "output_type": "execute_result"
    }
   ],
   "source": [
    "set(fm['DESI_TARGET'])"
   ]
  },
  {
   "cell_type": "code",
   "execution_count": 8,
   "metadata": {},
   "outputs": [
    {
     "name": "stdout",
     "output_type": "stream",
     "text": [
      "33\n",
      "61\n"
     ]
    }
   ],
   "source": [
    "s = '{:0>64b}'.format(2305843017803628544)[::-1]\n",
    "for i, s_ in enumerate(s):\n",
    "    if s_ == '1': print(i)"
   ]
  },
  {
   "cell_type": "markdown",
   "metadata": {},
   "source": [
    "---"
   ]
  },
  {
   "cell_type": "markdown",
   "metadata": {},
   "source": [
    "### Spectra"
   ]
  },
  {
   "cell_type": "code",
   "execution_count": 9,
   "metadata": {},
   "outputs": [],
   "source": [
    "specobj = desispec.io.read_spectra(f_spec)"
   ]
  },
  {
   "cell_type": "code",
   "execution_count": 10,
   "metadata": {},
   "outputs": [
    {
     "name": "stdout",
     "output_type": "stream",
     "text": [
      "288230398226336882\n"
     ]
    }
   ],
   "source": [
    "tid = fm['TARGETID'][10]\n",
    "print(tid)"
   ]
  },
  {
   "cell_type": "code",
   "execution_count": 11,
   "metadata": {},
   "outputs": [],
   "source": [
    "specot = specobj.select(targets=[tid])"
   ]
  },
  {
   "cell_type": "code",
   "execution_count": 12,
   "metadata": {},
   "outputs": [
    {
     "name": "stdout",
     "output_type": "stream",
     "text": [
      "number of targets:  1\n",
      "number of spectra:  2\n"
     ]
    }
   ],
   "source": [
    "print('number of targets: ', specot.num_targets())\n",
    "print('number of spectra: ', specot.num_spectra())"
   ]
  },
  {
   "cell_type": "code",
   "execution_count": 13,
   "metadata": {},
   "outputs": [],
   "source": [
    "bwave = specot.wave['b']\n",
    "rwave = specot.wave['r']\n",
    "zwave = specot.wave['z']\n",
    "\n",
    "bflux = specot.flux['b']\n",
    "rflux = specot.flux['r']\n",
    "zflux = specot.flux['z']"
   ]
  },
  {
   "cell_type": "code",
   "execution_count": 14,
   "metadata": {},
   "outputs": [
    {
     "data": {
      "image/png": "[encoded data removed]",
      "text/plain": [
       "<matplotlib.figure.Figure at 0x2aaaecda0c18>"
      ]
     },
     "metadata": {},
     "output_type": "display_data"
    }
   ],
   "source": [
    "from scipy.signal import medfilt\n",
    "\n",
    "# plot the spectrum\n",
    "rcParams['figure.figsize'] = [16, 10]\n",
    "rcParams['font.size'] = 20\n",
    "fig, (ax) = plt.subplots(1, 1)\n",
    "\n",
    "ss = 0\n",
    "ks = 15 # kernel_size\n",
    "\n",
    "ax.plot(bwave, medfilt(bflux[ss], ks), 'b', alpha=0.5)\n",
    "ax.plot(rwave, medfilt(rflux[ss], ks), 'r', alpha=0.5)\n",
    "ax.plot(zwave, medfilt(zflux[ss], ks), 'k', alpha=0.5)\n",
    "\n",
    "plt.show()"
   ]
  },
  {
   "cell_type": "code",
   "execution_count": null,
   "metadata": {},
   "outputs": [],
   "source": []
  }
 ],
 "metadata": {
  "kernelspec": {
   "display_name": "DESI 19.2",
   "language": "python",
   "name": "desi-19.2"
  },
  "language_info": {
   "codemirror_mode": {
    "name": "ipython",
    "version": 3
   },
   "file_extension": ".py",
   "mimetype": "text/x-python",
   "name": "python",
   "nbconvert_exporter": "python",
   "pygments_lexer": "ipython3",
   "version": "3.6.6"
  }
 },
 "nbformat": 4,
 "nbformat_minor": 4
}
