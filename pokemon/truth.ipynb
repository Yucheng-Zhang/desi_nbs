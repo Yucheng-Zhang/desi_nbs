{
 "cells": [
  {
   "cell_type": "markdown",
   "metadata": {},
   "source": [
    "## Simulated truth data"
   ]
  },
  {
   "cell_type": "code",
   "execution_count": 1,
   "metadata": {},
   "outputs": [
    {
     "name": "stdout",
     "output_type": "stream",
     "text": [
      "Populating the interactive namespace from numpy and matplotlib\n"
     ]
    }
   ],
   "source": [
    "import numpy as np\n",
    "import fitsio\n",
    "import astropy.io\n",
    "from astropy.table import Table\n",
    "import matplotlib.pyplot as plt\n",
    "from matplotlib import rcParams\n",
    "%pylab inline\n",
    "\n",
    "# DESI modules\n",
    "import desispec.io"
   ]
  },
  {
   "cell_type": "code",
   "execution_count": 4,
   "metadata": {},
   "outputs": [],
   "source": [
    "froot = '/project/projectdirs/desi/datachallenge/reference_runs/19.2/'\n",
    "f_truth = froot + 'targets/truth.fits'"
   ]
  },
  {
   "cell_type": "code",
   "execution_count": 5,
   "metadata": {},
   "outputs": [
    {
     "data": {
      "text/plain": [
       "\n",
       "  file: /project/projectdirs/desi/datachallenge/reference_runs/19.2/targets/truth.fits\n",
       "  mode: READONLY\n",
       "  extnum hdutype         hduname[v]\n",
       "  0      IMAGE_HDU       \n",
       "  1      BINARY_TBL      TRUTH\n",
       "  2      BINARY_TBL      TRUTH_BGS\n",
       "  3      BINARY_TBL      TRUTH_ELG\n",
       "  4      BINARY_TBL      TRUTH_LRG\n",
       "  5      BINARY_TBL      TRUTH_QSO\n",
       "  6      BINARY_TBL      TRUTH_STAR\n",
       "  7      BINARY_TBL      TRUTH_WD"
      ]
     },
     "execution_count": 5,
     "metadata": {},
     "output_type": "execute_result"
    }
   ],
   "source": [
    "fitsio.FITS(f_truth)"
   ]
  },
  {
   "cell_type": "code",
   "execution_count": 7,
   "metadata": {},
   "outputs": [],
   "source": [
    "truth = Table.read(f_truth, 'TRUTH')\n",
    "truth_elg = Table.read(f_truth, 'TRUTH_ELG')\n",
    "truth_bgs = Table.read(f_truth, 'TRUTH_BGS')\n",
    "truth_lrg = Table.read(f_truth, 'TRUTH_LRG')\n",
    "truth_qso = Table.read(f_truth, 'TRUTH_QSO')\n",
    "truth_star = Table.read(f_truth, 'TRUTH_STAR')\n",
    "truth_wd = Table.read(f_truth, 'TRUTH_WD')"
   ]
  },
  {
   "cell_type": "markdown",
   "metadata": {},
   "source": [
    "---"
   ]
  },
  {
   "cell_type": "code",
   "execution_count": 20,
   "metadata": {},
   "outputs": [
    {
     "name": "stdout",
     "output_type": "stream",
     "text": [
      "TRUTH:\n",
      " ['TARGETID', 'MOCKID', 'TRUEZ', 'TRUESPECTYPE', 'TEMPLATETYPE', 'TEMPLATESUBTYPE', 'TEMPLATEID', 'SEED', 'MAG', 'MAGFILTER', 'FLUX_G', 'FLUX_R', 'FLUX_Z', 'FLUX_W1', 'FLUX_W2'] \n",
      "\n",
      "TRUTH_ELG:\n",
      " ['TARGETID', 'OIIFLUX', 'HBETAFLUX', 'EWOII', 'EWHBETA', 'D4000', 'VDISP', 'OIIDOUBLET', 'OIIIHBETA', 'OIIHBETA', 'NIIHBETA', 'SIIHBETA', 'TRUEZ_NORSD'] \n",
      "\n",
      "TRUTH_BGS:\n",
      " ['TARGETID', 'OIIFLUX', 'HBETAFLUX', 'EWOII', 'EWHBETA', 'D4000', 'VDISP', 'OIIDOUBLET', 'OIIIHBETA', 'OIIHBETA', 'NIIHBETA', 'SIIHBETA', 'TRUEZ_NORSD'] \n",
      "\n",
      "TRUTH_LRG:\n",
      " ['TARGETID', 'OIIFLUX', 'HBETAFLUX', 'EWOII', 'EWHBETA', 'D4000', 'VDISP', 'OIIDOUBLET', 'OIIIHBETA', 'OIIHBETA', 'NIIHBETA', 'SIIHBETA', 'TRUEZ_NORSD'] \n",
      "\n",
      "TRUTH_QSO:\n",
      " ['TARGETID', 'MABS_1450', 'SLOPES', 'EMLINES', 'BAL_TEMPLATEID', 'TRUEZ_NORSD'] \n",
      "\n",
      "TRUTH_STAR:\n",
      " ['TARGETID', 'TEFF', 'LOGG', 'FEH'] \n",
      "\n",
      "TRUTH_WD:\n",
      " ['TARGETID', 'TEFF', 'LOGG'] \n",
      "\n"
     ]
    }
   ],
   "source": [
    "print('TRUTH:\\n', truth.colnames, '\\n')\n",
    "print('TRUTH_ELG:\\n', truth_elg.colnames, '\\n')\n",
    "print('TRUTH_BGS:\\n', truth_bgs.colnames, '\\n')\n",
    "print('TRUTH_LRG:\\n', truth_lrg.colnames, '\\n')\n",
    "print('TRUTH_QSO:\\n', truth_qso.colnames, '\\n')\n",
    "print('TRUTH_STAR:\\n', truth_star.colnames, '\\n')\n",
    "print('TRUTH_WD:\\n', truth_wd.colnames, '\\n')"
   ]
  },
  {
   "cell_type": "markdown",
   "metadata": {},
   "source": [
    "- Galaxies (ELG, LRG, BGS) have the same properties."
   ]
  },
  {
   "cell_type": "markdown",
   "metadata": {},
   "source": [
    "---"
   ]
  },
  {
   "cell_type": "markdown",
   "metadata": {},
   "source": [
    "#### TRUTH"
   ]
  },
  {
   "cell_type": "code",
   "execution_count": 25,
   "metadata": {},
   "outputs": [],
   "source": [
    "truth['TRUESPECTYPE'] = np.char.strip(truth['TRUESPECTYPE'])\n",
    "truth['TEMPLATETYPE'] = np.char.strip(truth['TEMPLATETYPE'])\n",
    "truth['TEMPLATESUBTYPE'] = np.char.strip(truth['TEMPLATETYPE'])"
   ]
  },
  {
   "cell_type": "code",
   "execution_count": 30,
   "metadata": {},
   "outputs": [
    {
     "name": "stdout",
     "output_type": "stream",
     "text": [
      "{'WD', 'STAR', 'GALAXY', 'QSO'}\n",
      "{'WD', 'ELG', 'BGS', 'LRG', 'STAR', 'QSO'}\n",
      "{'          ', 'M5.5V     ', 'G4V       ', 'M4.5V     ', 'K0V       ', 'M1V       ', 'M3.5V     ', 'F8IV      ', 'F8V       ', 'K4V       ', 'K0III     ', 'M2.5V     ', 'M6V       ', 'A3III     ', 'M2V       ', 'M0V       ', 'K9V       ', 'A8III     ', 'F4V       ', 'G8V       ', 'G1V       ', 'M5V       ', 'M1.5V     ', 'F7V       ', 'K3V       ', 'DB        ', 'K8V       ', 'F6IV      ', 'LYA       ', 'M3V       ', 'K7V       ', 'F5V       ', 'K1V       ', 'DA        ', 'K2V       ', 'M0.5V     ', 'M7.5V     ', 'K5V       ', 'M8V       ', 'F5IV      ', 'M4V       ', 'M6.5V     ', 'G6V       ', 'G3V       ', 'M9V       '}\n"
     ]
    }
   ],
   "source": [
    "print(set(truth['TRUESPECTYPE']))\n",
    "print(set(truth['TEMPLATETYPE']))\n",
    "print(set(truth['TEMPLATESUBTYPE'])) # what's this?"
   ]
  },
  {
   "cell_type": "code",
   "execution_count": 29,
   "metadata": {},
   "outputs": [
    {
     "data": {
      "text/plain": [
       "{'BGS', 'ELG', 'LRG'}"
      ]
     },
     "execution_count": 29,
     "metadata": {},
     "output_type": "execute_result"
    }
   ],
   "source": [
    "idx_gal = (truth['TRUESPECTYPE'] == 'GALAXY')\n",
    "set(truth[idx_gal]['TEMPLATETYPE'])"
   ]
  },
  {
   "cell_type": "markdown",
   "metadata": {},
   "source": [
    "- SpecType = Galaxy -> TemplateType = (BGS, ELG, LRG)"
   ]
  },
  {
   "cell_type": "code",
   "execution_count": 49,
   "metadata": {},
   "outputs": [
    {
     "data": {
      "text/plain": [
       "7443"
      ]
     },
     "execution_count": 49,
     "metadata": {},
     "output_type": "execute_result"
    }
   ],
   "source": [
    "len(set(truth['TEMPLATEID']))"
   ]
  },
  {
   "cell_type": "markdown",
   "metadata": {},
   "source": [
    "---"
   ]
  },
  {
   "cell_type": "markdown",
   "metadata": {},
   "source": [
    "#### TRUTH_ELG"
   ]
  },
  {
   "cell_type": "code",
   "execution_count": 52,
   "metadata": {},
   "outputs": [
    {
     "data": {
      "text/html": [
       "&lt;Column name=&apos;OIIDOUBLET&apos; dtype=&apos;float32&apos; length=82769&gt;\n",
       "<table>\n",
       "<tr><td>0.682568</td></tr>\n",
       "<tr><td>0.767999</td></tr>\n",
       "<tr><td>0.727801</td></tr>\n",
       "<tr><td>0.761405</td></tr>\n",
       "<tr><td>0.767071</td></tr>\n",
       "<tr><td>0.692267</td></tr>\n",
       "<tr><td>0.872609</td></tr>\n",
       "<tr><td>0.686532</td></tr>\n",
       "<tr><td>0.730171</td></tr>\n",
       "<tr><td>0.762754</td></tr>\n",
       "<tr><td>0.735109</td></tr>\n",
       "<tr><td>0.745819</td></tr>\n",
       "<tr><td>...</td></tr>\n",
       "<tr><td>0.769854</td></tr>\n",
       "<tr><td>0.790382</td></tr>\n",
       "<tr><td>0.661725</td></tr>\n",
       "<tr><td>0.710522</td></tr>\n",
       "<tr><td>0.718571</td></tr>\n",
       "<tr><td>0.776965</td></tr>\n",
       "<tr><td>0.75662</td></tr>\n",
       "<tr><td>0.66781</td></tr>\n",
       "<tr><td>0.703916</td></tr>\n",
       "<tr><td>0.70807</td></tr>\n",
       "<tr><td>0.747367</td></tr>\n",
       "<tr><td>0.656101</td></tr>\n",
       "</table>"
      ],
      "text/plain": [
       "<Column name='OIIDOUBLET' dtype='float32' length=82769>\n",
       "0.682568\n",
       "0.767999\n",
       "0.727801\n",
       "0.761405\n",
       "0.767071\n",
       "0.692267\n",
       "0.872609\n",
       "0.686532\n",
       "0.730171\n",
       "0.762754\n",
       "0.735109\n",
       "0.745819\n",
       "     ...\n",
       "0.769854\n",
       "0.790382\n",
       "0.661725\n",
       "0.710522\n",
       "0.718571\n",
       "0.776965\n",
       " 0.75662\n",
       " 0.66781\n",
       "0.703916\n",
       " 0.70807\n",
       "0.747367\n",
       "0.656101"
      ]
     },
     "execution_count": 52,
     "metadata": {},
     "output_type": "execute_result"
    }
   ],
   "source": [
    "truth_elg['OIIDOUBLET']"
   ]
  },
  {
   "cell_type": "code",
   "execution_count": null,
   "metadata": {},
   "outputs": [],
   "source": []
  }
 ],
 "metadata": {
  "kernelspec": {
   "display_name": "DESI 19.2",
   "language": "python",
   "name": "desi-19.2"
  },
  "language_info": {
   "codemirror_mode": {
    "name": "ipython",
    "version": 3
   },
   "file_extension": ".py",
   "mimetype": "text/x-python",
   "name": "python",
   "nbconvert_exporter": "python",
   "pygments_lexer": "ipython3",
   "version": "3.6.6"
  }
 },
 "nbformat": 4,
 "nbformat_minor": 4
}
