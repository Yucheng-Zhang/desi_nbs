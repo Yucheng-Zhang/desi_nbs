{
 "cells": [
  {
   "cell_type": "markdown",
   "metadata": {},
   "source": [
    "## Simulated truth data"
   ]
  },
  {
   "cell_type": "code",
   "execution_count": 1,
   "metadata": {},
   "outputs": [
    {
     "name": "stdout",
     "output_type": "stream",
     "text": [
      "Populating the interactive namespace from numpy and matplotlib\n"
     ]
    }
   ],
   "source": [
    "import numpy as np\n",
    "import fitsio\n",
    "import astropy.io\n",
    "from astropy.table import Table\n",
    "import matplotlib.pyplot as plt\n",
    "from matplotlib import rcParams\n",
    "%pylab inline\n",
    "\n",
    "# DESI modules\n",
    "import desispec.io"
   ]
  },
  {
   "cell_type": "code",
   "execution_count": 2,
   "metadata": {},
   "outputs": [],
   "source": [
    "froot = '/project/projectdirs/desi/datachallenge/reference_runs/19.2/'\n",
    "f_truth = froot + 'targets/truth.fits'"
   ]
  },
  {
   "cell_type": "code",
   "execution_count": 3,
   "metadata": {},
   "outputs": [
    {
     "data": {
      "text/plain": [
       "\n",
       "  file: /project/projectdirs/desi/datachallenge/reference_runs/19.2/targets/truth.fits\n",
       "  mode: READONLY\n",
       "  extnum hdutype         hduname[v]\n",
       "  0      IMAGE_HDU       \n",
       "  1      BINARY_TBL      TRUTH\n",
       "  2      BINARY_TBL      TRUTH_BGS\n",
       "  3      BINARY_TBL      TRUTH_ELG\n",
       "  4      BINARY_TBL      TRUTH_LRG\n",
       "  5      BINARY_TBL      TRUTH_QSO\n",
       "  6      BINARY_TBL      TRUTH_STAR\n",
       "  7      BINARY_TBL      TRUTH_WD"
      ]
     },
     "execution_count": 3,
     "metadata": {},
     "output_type": "execute_result"
    }
   ],
   "source": [
    "fitsio.FITS(f_truth)"
   ]
  },
  {
   "cell_type": "code",
   "execution_count": 4,
   "metadata": {},
   "outputs": [],
   "source": [
    "truth = Table.read(f_truth, 'TRUTH')\n",
    "truth_elg = Table.read(f_truth, 'TRUTH_ELG')\n",
    "truth_bgs = Table.read(f_truth, 'TRUTH_BGS')\n",
    "truth_lrg = Table.read(f_truth, 'TRUTH_LRG')\n",
    "truth_qso = Table.read(f_truth, 'TRUTH_QSO')\n",
    "truth_star = Table.read(f_truth, 'TRUTH_STAR')\n",
    "truth_wd = Table.read(f_truth, 'TRUTH_WD')"
   ]
  },
  {
   "cell_type": "markdown",
   "metadata": {},
   "source": [
    "---"
   ]
  },
  {
   "cell_type": "code",
   "execution_count": 5,
   "metadata": {},
   "outputs": [
    {
     "name": "stdout",
     "output_type": "stream",
     "text": [
      "TRUTH:\n",
      " ['TARGETID', 'MOCKID', 'TRUEZ', 'TRUESPECTYPE', 'TEMPLATETYPE', 'TEMPLATESUBTYPE', 'TEMPLATEID', 'SEED', 'MAG', 'MAGFILTER', 'FLUX_G', 'FLUX_R', 'FLUX_Z', 'FLUX_W1', 'FLUX_W2'] \n",
      "\n",
      "TRUTH_ELG:\n",
      " ['TARGETID', 'OIIFLUX', 'HBETAFLUX', 'EWOII', 'EWHBETA', 'D4000', 'VDISP', 'OIIDOUBLET', 'OIIIHBETA', 'OIIHBETA', 'NIIHBETA', 'SIIHBETA', 'TRUEZ_NORSD'] \n",
      "\n",
      "TRUTH_BGS:\n",
      " ['TARGETID', 'OIIFLUX', 'HBETAFLUX', 'EWOII', 'EWHBETA', 'D4000', 'VDISP', 'OIIDOUBLET', 'OIIIHBETA', 'OIIHBETA', 'NIIHBETA', 'SIIHBETA', 'TRUEZ_NORSD'] \n",
      "\n",
      "TRUTH_LRG:\n",
      " ['TARGETID', 'OIIFLUX', 'HBETAFLUX', 'EWOII', 'EWHBETA', 'D4000', 'VDISP', 'OIIDOUBLET', 'OIIIHBETA', 'OIIHBETA', 'NIIHBETA', 'SIIHBETA', 'TRUEZ_NORSD'] \n",
      "\n",
      "TRUTH_QSO:\n",
      " ['TARGETID', 'MABS_1450', 'SLOPES', 'EMLINES', 'BAL_TEMPLATEID', 'TRUEZ_NORSD'] \n",
      "\n",
      "TRUTH_STAR:\n",
      " ['TARGETID', 'TEFF', 'LOGG', 'FEH'] \n",
      "\n",
      "TRUTH_WD:\n",
      " ['TARGETID', 'TEFF', 'LOGG'] \n",
      "\n"
     ]
    }
   ],
   "source": [
    "print('TRUTH:\\n', truth.colnames, '\\n')\n",
    "print('TRUTH_ELG:\\n', truth_elg.colnames, '\\n')\n",
    "print('TRUTH_BGS:\\n', truth_bgs.colnames, '\\n')\n",
    "print('TRUTH_LRG:\\n', truth_lrg.colnames, '\\n')\n",
    "print('TRUTH_QSO:\\n', truth_qso.colnames, '\\n')\n",
    "print('TRUTH_STAR:\\n', truth_star.colnames, '\\n')\n",
    "print('TRUTH_WD:\\n', truth_wd.colnames, '\\n')"
   ]
  },
  {
   "cell_type": "markdown",
   "metadata": {},
   "source": [
    "- Galaxies (ELG, LRG, BGS) have the same properties."
   ]
  },
  {
   "cell_type": "markdown",
   "metadata": {},
   "source": [
    "---"
   ]
  },
  {
   "cell_type": "markdown",
   "metadata": {},
   "source": [
    "#### TRUTH"
   ]
  },
  {
   "cell_type": "code",
   "execution_count": 6,
   "metadata": {},
   "outputs": [],
   "source": [
    "truth['TRUESPECTYPE'] = np.char.strip(truth['TRUESPECTYPE'])\n",
    "truth['TEMPLATETYPE'] = np.char.strip(truth['TEMPLATETYPE'])\n",
    "truth['TEMPLATESUBTYPE'] = np.char.strip(truth['TEMPLATETYPE'])"
   ]
  },
  {
   "cell_type": "code",
   "execution_count": 7,
   "metadata": {},
   "outputs": [
    {
     "name": "stdout",
     "output_type": "stream",
     "text": [
      "{'QSO', 'WD', 'STAR', 'GALAXY'}\n",
      "{'BGS', 'STAR', 'LRG', 'QSO', 'WD', 'ELG'}\n",
      "{'BGS', 'STAR', 'LRG', 'QSO', 'WD', 'ELG'}\n"
     ]
    }
   ],
   "source": [
    "print(set(truth['TRUESPECTYPE']))\n",
    "print(set(truth['TEMPLATETYPE']))\n",
    "print(set(truth['TEMPLATESUBTYPE'])) # what's this?"
   ]
  },
  {
   "cell_type": "code",
   "execution_count": 8,
   "metadata": {},
   "outputs": [
    {
     "data": {
      "text/plain": [
       "{'BGS', 'ELG', 'LRG'}"
      ]
     },
     "execution_count": 8,
     "metadata": {},
     "output_type": "execute_result"
    }
   ],
   "source": [
    "idx_gal = (truth['TRUESPECTYPE'] == 'GALAXY')\n",
    "set(truth[idx_gal]['TEMPLATETYPE'])"
   ]
  },
  {
   "cell_type": "markdown",
   "metadata": {},
   "source": [
    "- SpecType = Galaxy -> TemplateType = (BGS, ELG, LRG)"
   ]
  },
  {
   "cell_type": "code",
   "execution_count": 9,
   "metadata": {},
   "outputs": [
    {
     "data": {
      "text/plain": [
       "7443"
      ]
     },
     "execution_count": 9,
     "metadata": {},
     "output_type": "execute_result"
    }
   ],
   "source": [
    "len(set(truth['TEMPLATEID']))"
   ]
  },
  {
   "cell_type": "markdown",
   "metadata": {},
   "source": [
    "---"
   ]
  },
  {
   "cell_type": "markdown",
   "metadata": {},
   "source": [
    "#### TRUTH_ELG"
   ]
  },
  {
   "cell_type": "code",
   "execution_count": 13,
   "metadata": {},
   "outputs": [
    {
     "data": {
      "image/png": "[encoded data removed]",
      "text/plain": [
       "<matplotlib.figure.Figure at 0x2aaaece7fa20>"
      ]
     },
     "metadata": {},
     "output_type": "display_data"
    }
   ],
   "source": [
    "plt.hist(truth_elg['OIIDOUBLET'], bins=100)\n",
    "plt.show()"
   ]
  },
  {
   "cell_type": "code",
   "execution_count": 18,
   "metadata": {},
   "outputs": [
    {
     "data": {
      "image/png": "[encoded data removed]",
      "text/plain": [
       "<matplotlib.figure.Figure at 0x2aaaed32a1d0>"
      ]
     },
     "metadata": {},
     "output_type": "display_data"
    },
    {
     "name": "stdout",
     "output_type": "stream",
     "text": [
      "2.35106e-18 2.93705e-15\n"
     ]
    }
   ],
   "source": [
    "plt.hist(truth_elg['OIIFLUX'], bins=100)\n",
    "plt.show()\n",
    "print(truth_elg['OIIFLUX'].min(), truth_elg['OIIFLUX'].max())"
   ]
  },
  {
   "cell_type": "code",
   "execution_count": null,
   "metadata": {},
   "outputs": [],
   "source": []
  }
 ],
 "metadata": {
  "kernelspec": {
   "display_name": "DESI 19.2",
   "language": "python",
   "name": "desi-19.2"
  },
  "language_info": {
   "codemirror_mode": {
    "name": "ipython",
    "version": 3
   },
   "file_extension": ".py",
   "mimetype": "text/x-python",
   "name": "python",
   "nbconvert_exporter": "python",
   "pygments_lexer": "ipython3",
   "version": "3.6.6"
  }
 },
 "nbformat": 4,
 "nbformat_minor": 4
}
