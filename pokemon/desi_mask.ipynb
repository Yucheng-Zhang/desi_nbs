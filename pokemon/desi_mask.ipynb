{
 "cells": [
  {
   "cell_type": "code",
   "execution_count": 71,
   "metadata": {},
   "outputs": [],
   "source": [
    "# DESI version 19.2\n",
    "from desitarget.targetmask import desi_mask"
   ]
  },
  {
   "cell_type": "code",
   "execution_count": 72,
   "metadata": {},
   "outputs": [
    {
     "name": "stdout",
     "output_type": "stream",
     "text": [
      "                Name             Decimal          Bit Number\n",
      "------------------------------------------------------------\n",
      "                 LRG :                    1 :          0\n",
      "                 ELG :                    2 :          1\n",
      "                 QSO :                    4 :          2\n",
      "           LRG_1PASS :                    8 :          3\n",
      "           LRG_2PASS :                   16 :          4\n",
      "           LRG_NORTH :                  256 :          8\n",
      "           ELG_NORTH :                  512 :          9\n",
      "           QSO_NORTH :                 1024 :         10\n",
      "           LRG_SOUTH :                65536 :         16\n",
      "           ELG_SOUTH :               131072 :         17\n",
      "           QSO_SOUTH :               262144 :         18\n",
      "     LRG_1PASS_NORTH :             16777216 :         24\n",
      "     LRG_2PASS_NORTH :             33554432 :         25\n",
      "     LRG_1PASS_SOUTH :            268435456 :         28\n",
      "     LRG_2PASS_SOUTH :            536870912 :         29\n",
      "                 SKY :           4294967296 :         32\n",
      "           STD_FAINT :           8589934592 :         33\n",
      "              STD_WD :          17179869184 :         34\n",
      "          STD_BRIGHT :          34359738368 :         35\n",
      "             BAD_SKY :          68719476736 :         36\n",
      "           NO_TARGET :      562949953421312 :         49\n",
      "       BRIGHT_OBJECT :     1125899906842624 :         50\n",
      "    IN_BRIGHT_OBJECT :     2251799813685248 :         51\n",
      "  NEAR_BRIGHT_OBJECT :     4503599627370496 :         52\n",
      "             BGS_ANY :  1152921504606846976 :         60\n",
      "             MWS_ANY :  2305843009213693952 :         61\n",
      "       SECONDARY_ANY :  4611686018427387904 :         62\n"
     ]
    }
   ],
   "source": [
    "print('{:>20s}{:>20s}{:>20s}'.format('Name', 'Decimal', 'Bit Number'))\n",
    "print('-'*60)\n",
    "for name in desi_mask.names():\n",
    "    print('{:>20s} : {:>20d} : {:>10d}'.format(name, desi_mask[name], desi_mask.bitnum(name)))"
   ]
  },
  {
   "cell_type": "markdown",
   "metadata": {},
   "source": [
    "---"
   ]
  },
  {
   "cell_type": "markdown",
   "metadata": {},
   "source": [
    "- Q: What are other bits used for?"
   ]
  },
  {
   "cell_type": "code",
   "execution_count": null,
   "metadata": {},
   "outputs": [],
   "source": []
  }
 ],
 "metadata": {
  "kernelspec": {
   "display_name": "DESI 19.2",
   "language": "python",
   "name": "desi-19.2"
  },
  "language_info": {
   "codemirror_mode": {
    "name": "ipython",
    "version": 3
   },
   "file_extension": ".py",
   "mimetype": "text/x-python",
   "name": "python",
   "nbconvert_exporter": "python",
   "pygments_lexer": "ipython3",
   "version": "3.6.6"
  }
 },
 "nbformat": 4,
 "nbformat_minor": 4
}
